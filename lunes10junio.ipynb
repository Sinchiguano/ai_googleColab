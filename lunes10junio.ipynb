{
  "nbformat": 4,
  "nbformat_minor": 0,
  "metadata": {
    "colab": {
      "provenance": [],
      "authorship_tag": "ABX9TyM2RIQyF3BzygRnrfA2oGyt",
      "include_colab_link": true
    },
    "kernelspec": {
      "name": "python3",
      "display_name": "Python 3"
    },
    "language_info": {
      "name": "python"
    }
  },
  "cells": [
    {
      "cell_type": "markdown",
      "metadata": {
        "id": "view-in-github",
        "colab_type": "text"
      },
      "source": [
        "<a href=\"https://colab.research.google.com/github/Sinchiguano/ai_googleColab/blob/main/lunes10junio.ipynb\" target=\"_parent\"><img src=\"https://colab.research.google.com/assets/colab-badge.svg\" alt=\"Open In Colab\"/></a>"
      ]
    },
    {
      "cell_type": "code",
      "execution_count": null,
      "metadata": {
        "colab": {
          "base_uri": "https://localhost:8080/"
        },
        "id": "c0FwVtgA-3CE",
        "outputId": "df84b97b-a059-4dd2-c5a5-df51795c33d7"
      },
      "outputs": [
        {
          "output_type": "stream",
          "name": "stdout",
          "text": [
            "Python 3.10.12\n"
          ]
        }
      ],
      "source": [
        "!python --version"
      ]
    },
    {
      "cell_type": "code",
      "source": [
        "myNumber= 3\n",
        "myNumberDecimal=3.6\n",
        "state=True\n"
      ],
      "metadata": {
        "id": "pF-6bJil-7BP"
      },
      "execution_count": null,
      "outputs": []
    },
    {
      "cell_type": "code",
      "source": [
        "print(f'valor entero= {myNumber}')\n",
        "print('valor entero es = ',myNumber)\n",
        "print(f'valor decimal= {myNumberDecimal}')\n",
        "print('valor bool es = ',state)"
      ],
      "metadata": {
        "id": "_XzyrXREDSVJ",
        "outputId": "bd9afe47-ecc2-41b3-9806-8719ad915aa2",
        "colab": {
          "base_uri": "https://localhost:8080/"
        }
      },
      "execution_count": null,
      "outputs": [
        {
          "output_type": "stream",
          "name": "stdout",
          "text": [
            "valor entero= 3\n",
            "valor entero es =  3\n",
            "valor decimal= 3.6\n",
            "valor bool es =  True\n"
          ]
        }
      ]
    },
    {
      "cell_type": "code",
      "source": [
        "aux1=10\n",
        "aux2=2\n",
        "\n",
        "print(\"La suma de las variables aux1 + aux2 =\",aux1+aux2)"
      ],
      "metadata": {
        "id": "CkWC8w4-EFfH",
        "outputId": "b037825b-e18c-4294-949a-86270dca200f",
        "colab": {
          "base_uri": "https://localhost:8080/"
        }
      },
      "execution_count": null,
      "outputs": [
        {
          "output_type": "stream",
          "name": "stdout",
          "text": [
            "La suma de las variables aux1 + aux2 = 12\n"
          ]
        }
      ]
    },
    {
      "cell_type": "code",
      "source": [
        "tmp=aux1**aux2\n",
        "print(f'The result of $10^2$={tmp}')"
      ],
      "metadata": {
        "id": "09824NolEo-7",
        "outputId": "e00cd007-1146-4dcb-b9e9-5bdfcf809de0",
        "colab": {
          "base_uri": "https://localhost:8080/"
        }
      },
      "execution_count": null,
      "outputs": [
        {
          "output_type": "stream",
          "name": "stdout",
          "text": [
            "The result of 10^2=100\n"
          ]
        }
      ]
    },
    {
      "cell_type": "code",
      "source": [
        "var1='Hola'\n",
        "var2='!,Cesar'\n",
        "\n",
        "print(var1+var2)"
      ],
      "metadata": {
        "id": "3EZraEboF1Ue",
        "outputId": "75a54ea2-635a-4249-e8b3-6d5a12d94035",
        "colab": {
          "base_uri": "https://localhost:8080/"
        }
      },
      "execution_count": null,
      "outputs": [
        {
          "output_type": "stream",
          "name": "stdout",
          "text": [
            "Hola!,Cesar\n"
          ]
        }
      ]
    },
    {
      "cell_type": "code",
      "source": [
        "print(3*var1)"
      ],
      "metadata": {
        "id": "XV6HohyhGcSh",
        "outputId": "a2b8152d-0f7f-4036-9ad7-041c7b732d22",
        "colab": {
          "base_uri": "https://localhost:8080/"
        }
      },
      "execution_count": null,
      "outputs": [
        {
          "output_type": "stream",
          "name": "stdout",
          "text": [
            "HolaHolaHola\n"
          ]
        }
      ]
    },
    {
      "cell_type": "code",
      "source": [
        "num1=10\n",
        "num2=10.5"
      ],
      "metadata": {
        "id": "qi3VlmSjGpuM"
      },
      "execution_count": null,
      "outputs": []
    },
    {
      "cell_type": "code",
      "source": [
        "print('The type of the num1 is: ',type(num1))\n",
        "print('The type of the num1 is: ',type(num2))"
      ],
      "metadata": {
        "id": "ZxVh1pO1G3ol",
        "outputId": "421322cb-a85e-4316-fb49-ed9c8937ea86",
        "colab": {
          "base_uri": "https://localhost:8080/"
        }
      },
      "execution_count": null,
      "outputs": [
        {
          "output_type": "stream",
          "name": "stdout",
          "text": [
            "The type of the num1 is:  <class 'int'>\n",
            "The type of the num1 is:  <class 'float'>\n"
          ]
        }
      ]
    }
  ]
}