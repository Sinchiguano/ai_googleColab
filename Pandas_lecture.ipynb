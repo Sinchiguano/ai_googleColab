{
  "nbformat": 4,
  "nbformat_minor": 0,
  "metadata": {
    "colab": {
      "provenance": [],
      "authorship_tag": "ABX9TyMGOEYOuFdoZthiS1vKqVuM",
      "include_colab_link": true
    },
    "kernelspec": {
      "name": "python3",
      "display_name": "Python 3"
    },
    "language_info": {
      "name": "python"
    }
  },
  "cells": [
    {
      "cell_type": "markdown",
      "metadata": {
        "id": "view-in-github",
        "colab_type": "text"
      },
      "source": [
        "<a href=\"https://colab.research.google.com/github/Sinchiguano/ai_googleColab/blob/main/Pandas_lecture.ipynb\" target=\"_parent\"><img src=\"https://colab.research.google.com/assets/colab-badge.svg\" alt=\"Open In Colab\"/></a>"
      ]
    },
    {
      "cell_type": "markdown",
      "source": [
        "Introduction to pandas Data Structurees"
      ],
      "metadata": {
        "id": "YJkS7CchzggW"
      }
    },
    {
      "cell_type": "code",
      "source": [
        "import pandas as pd"
      ],
      "metadata": {
        "id": "lvprw16kzj8w"
      },
      "execution_count": 118,
      "outputs": []
    },
    {
      "cell_type": "markdown",
      "source": [
        "DATA STRUCTURES"
      ],
      "metadata": {
        "id": "FZxMwcyLzpmU"
      }
    },
    {
      "cell_type": "code",
      "source": [
        "ser=pd.Series(data=[1,2,3], index=['one','two','three'])\n",
        "print(ser.shape)\n",
        "print(ser)\n",
        "\n",
        "print('\\n')\n",
        "ser=pd.Series([1,2,3],['one','two','three'])\n",
        "print(ser.shape)\n",
        "print(ser)\n",
        "\n",
        "print('\\n')\n",
        "ser=pd.Series([1,'food','rice'],['one','two','three'])\n",
        "print(ser.shape)\n",
        "print(ser)\n",
        "\n",
        "print('\\n')\n",
        "print(ser['two'])\n",
        "print(ser.index)"
      ],
      "metadata": {
        "colab": {
          "base_uri": "https://localhost:8080/"
        },
        "id": "R50_0_bezvtK",
        "outputId": "97bb1235-b89e-4462-e1e8-e1e68f4d0754"
      },
      "execution_count": 119,
      "outputs": [
        {
          "output_type": "stream",
          "name": "stdout",
          "text": [
            "(3,)\n",
            "one      1\n",
            "two      2\n",
            "three    3\n",
            "dtype: int64\n",
            "\n",
            "\n",
            "(3,)\n",
            "one      1\n",
            "two      2\n",
            "three    3\n",
            "dtype: int64\n",
            "\n",
            "\n",
            "(3,)\n",
            "one         1\n",
            "two      food\n",
            "three    rice\n",
            "dtype: object\n",
            "\n",
            "\n",
            "food\n",
            "Index(['one', 'two', 'three'], dtype='object')\n"
          ]
        }
      ]
    },
    {
      "cell_type": "code",
      "source": [
        "ser=pd.Series([1,'food','rice'],['one','two','three'])\n",
        "print(ser.loc['three'])\n",
        "print('\\n')\n",
        "print(ser[['one','three']])\n",
        "print('\\n')\n",
        "print(ser[[0,2]])\n",
        "print('\\n')\n",
        "print('two' in ser)\n"
      ],
      "metadata": {
        "colab": {
          "base_uri": "https://localhost:8080/"
        },
        "id": "YbNc9Ve00wP7",
        "outputId": "0d6e80bc-b2d0-4ab7-e13c-1c1f41c0f54c"
      },
      "execution_count": 120,
      "outputs": [
        {
          "output_type": "stream",
          "name": "stdout",
          "text": [
            "rice\n",
            "\n",
            "\n",
            "one         1\n",
            "three    rice\n",
            "dtype: object\n",
            "\n",
            "\n",
            "one         1\n",
            "three    rice\n",
            "dtype: object\n",
            "\n",
            "\n",
            "True\n"
          ]
        }
      ]
    },
    {
      "cell_type": "markdown",
      "source": [
        "PANDAS DATAFRAME\n",
        "\n",
        "it is a 2-dimensional labeled data structure"
      ],
      "metadata": {
        "id": "seXvvwEz2oiV"
      }
    },
    {
      "cell_type": "code",
      "source": [
        "tmp=dict()\n",
        "print(type(tmp))\n",
        "import pandas as pd\n",
        "s1=pd.Series(data=[2,1,2,4],index=['eraser','ruler','notebook','glue'])\n",
        "s2=pd.Series(data=[4,2,6,1],index=['desk','stapler','scissors','highlighter'])\n",
        "s3=pd.Series(data=[1,2,2,30],index=['calculator','chair','whiteout','paper'])\n",
        "\n",
        "\n",
        "tmp['scholarList1']=s1\n",
        "tmp['scholarList2']=s2\n",
        "tmp['scholarList3']=s3\n",
        "print('-------------')\n",
        "# # Iterate over the keys\n",
        "# for key in tmp:\n",
        "#     # Access the value using the key\n",
        "#     print(tmp[key])\n",
        "\n",
        "print('----NEW ONE------------')\n",
        "dframe=pd.DataFrame(tmp)\n",
        "# print(dframe.shape)\n",
        "print('\\n')\n",
        "print(dframe)"
      ],
      "metadata": {
        "colab": {
          "base_uri": "https://localhost:8080/"
        },
        "id": "X354NuH72wVQ",
        "outputId": "dc793c9c-4c37-4285-9686-793992514d2c"
      },
      "execution_count": 121,
      "outputs": [
        {
          "output_type": "stream",
          "name": "stdout",
          "text": [
            "<class 'dict'>\n",
            "-------------\n",
            "----NEW ONE------------\n",
            "\n",
            "\n",
            "             scholarList1  scholarList2  scholarList3\n",
            "calculator            NaN           NaN           1.0\n",
            "chair                 NaN           NaN           2.0\n",
            "desk                  NaN           4.0           NaN\n",
            "eraser                2.0           NaN           NaN\n",
            "glue                  4.0           NaN           NaN\n",
            "highlighter           NaN           1.0           NaN\n",
            "notebook              2.0           NaN           NaN\n",
            "paper                 NaN           NaN          30.0\n",
            "ruler                 1.0           NaN           NaN\n",
            "scissors              NaN           6.0           NaN\n",
            "stapler               NaN           2.0           NaN\n",
            "whiteout              NaN           NaN           2.0\n"
          ]
        }
      ]
    },
    {
      "cell_type": "code",
      "source": [
        "print(dframe.index)\n",
        "print('------')\n",
        "print(dframe.columns)\n",
        "\n",
        "\n",
        "print('------')\n",
        "newDataFrame=pd.DataFrame(tmp,index=['eraser','scissors','paper'])\n",
        "print(newDataFrame)"
      ],
      "metadata": {
        "colab": {
          "base_uri": "https://localhost:8080/"
        },
        "id": "YSCLyZZn_BLJ",
        "outputId": "934089b5-b70d-4f68-d6b8-abd49edc8697"
      },
      "execution_count": 122,
      "outputs": [
        {
          "output_type": "stream",
          "name": "stdout",
          "text": [
            "Index(['calculator', 'chair', 'desk', 'eraser', 'glue', 'highlighter',\n",
            "       'notebook', 'paper', 'ruler', 'scissors', 'stapler', 'whiteout'],\n",
            "      dtype='object')\n",
            "------\n",
            "Index(['scholarList1', 'scholarList2', 'scholarList3'], dtype='object')\n",
            "------\n",
            "          scholarList1  scholarList2  scholarList3\n",
            "eraser             2.0           NaN           NaN\n",
            "scissors           NaN           6.0           NaN\n",
            "paper              NaN           NaN          30.0\n"
          ]
        }
      ]
    },
    {
      "cell_type": "markdown",
      "source": [
        "CREATE DATAFRAME FROM LIST OF PYTHON DICTIONARIES"
      ],
      "metadata": {
        "id": "T2uEWkM1BBFK"
      }
    },
    {
      "cell_type": "code",
      "source": [
        "data=list()\n",
        "data.append({'alex':1,'joe':2})\n",
        "data.append({'ema':5,'dora':10,'alice':50})\n",
        "print(data)\n",
        "newDframe=pd.DataFrame(data)\n",
        "print('-------')\n",
        "print(newDframe)\n",
        "print('\\n')\n",
        "newDframe=pd.DataFrame(data,index=['orange','red'])\n",
        "newDframe\n",
        "print('\\n')\n",
        "nDf1=pd.DataFrame(data, index=['one','two'],columns=['ema','dora','joe'])\n",
        "print(nDf1)"
      ],
      "metadata": {
        "colab": {
          "base_uri": "https://localhost:8080/"
        },
        "id": "aJy4kBKnBJ_K",
        "outputId": "34d1e6be-8c9f-46c2-e71f-24f03eb5568f"
      },
      "execution_count": 123,
      "outputs": [
        {
          "output_type": "stream",
          "name": "stdout",
          "text": [
            "[{'alex': 1, 'joe': 2}, {'ema': 5, 'dora': 10, 'alice': 50}]\n",
            "-------\n",
            "   alex  joe  ema  dora  alice\n",
            "0   1.0  2.0  NaN   NaN    NaN\n",
            "1   NaN  NaN  5.0  10.0   50.0\n",
            "\n",
            "\n",
            "\n",
            "\n",
            "     ema  dora  joe\n",
            "one  NaN   NaN  2.0\n",
            "two  5.0  10.0  NaN\n"
          ]
        }
      ]
    },
    {
      "cell_type": "markdown",
      "source": [
        "BASIC DATAFRAME OPERATIONS"
      ],
      "metadata": {
        "id": "RylZKbakC20d"
      }
    },
    {
      "cell_type": "code",
      "source": [
        "print(dframe)\n",
        "print('\\n')\n",
        "print(dframe['scholarList1'])\n",
        "print('\\n')\n",
        "dframe['scholarList4']=dframe['scholarList1']+dframe['scholarList3']\n",
        "print(dframe)"
      ],
      "metadata": {
        "colab": {
          "base_uri": "https://localhost:8080/"
        },
        "id": "ltzrZgc2C8Jr",
        "outputId": "aae6e69c-dc20-44f7-f583-d12f2bd5bb30"
      },
      "execution_count": 124,
      "outputs": [
        {
          "output_type": "stream",
          "name": "stdout",
          "text": [
            "             scholarList1  scholarList2  scholarList3\n",
            "calculator            NaN           NaN           1.0\n",
            "chair                 NaN           NaN           2.0\n",
            "desk                  NaN           4.0           NaN\n",
            "eraser                2.0           NaN           NaN\n",
            "glue                  4.0           NaN           NaN\n",
            "highlighter           NaN           1.0           NaN\n",
            "notebook              2.0           NaN           NaN\n",
            "paper                 NaN           NaN          30.0\n",
            "ruler                 1.0           NaN           NaN\n",
            "scissors              NaN           6.0           NaN\n",
            "stapler               NaN           2.0           NaN\n",
            "whiteout              NaN           NaN           2.0\n",
            "\n",
            "\n",
            "calculator     NaN\n",
            "chair          NaN\n",
            "desk           NaN\n",
            "eraser         2.0\n",
            "glue           4.0\n",
            "highlighter    NaN\n",
            "notebook       2.0\n",
            "paper          NaN\n",
            "ruler          1.0\n",
            "scissors       NaN\n",
            "stapler        NaN\n",
            "whiteout       NaN\n",
            "Name: scholarList1, dtype: float64\n",
            "\n",
            "\n",
            "             scholarList1  scholarList2  scholarList3  scholarList4\n",
            "calculator            NaN           NaN           1.0           NaN\n",
            "chair                 NaN           NaN           2.0           NaN\n",
            "desk                  NaN           4.0           NaN           NaN\n",
            "eraser                2.0           NaN           NaN           NaN\n",
            "glue                  4.0           NaN           NaN           NaN\n",
            "highlighter           NaN           1.0           NaN           NaN\n",
            "notebook              2.0           NaN           NaN           NaN\n",
            "paper                 NaN           NaN          30.0           NaN\n",
            "ruler                 1.0           NaN           NaN           NaN\n",
            "scissors              NaN           6.0           NaN           NaN\n",
            "stapler               NaN           2.0           NaN           NaN\n",
            "whiteout              NaN           NaN           2.0           NaN\n"
          ]
        }
      ]
    },
    {
      "cell_type": "code",
      "source": [
        "filter=dframe['scholarList1']>3\n",
        "dframe2=dframe[filter]\n",
        "print(dframe2)\n",
        "print(dframe)\n",
        "print(dframe.pop('scholarList4'))\n",
        "print(dframe)\n",
        "del dframe['scholarList2']\n",
        "print(dframe['scholarList3'][:2])"
      ],
      "metadata": {
        "colab": {
          "base_uri": "https://localhost:8080/"
        },
        "id": "KDp6nL-lDrIj",
        "outputId": "d040455e-4ede-403d-a044-3d87f7bea4da"
      },
      "execution_count": 125,
      "outputs": [
        {
          "output_type": "stream",
          "name": "stdout",
          "text": [
            "      scholarList1  scholarList2  scholarList3  scholarList4\n",
            "glue           4.0           NaN           NaN           NaN\n",
            "             scholarList1  scholarList2  scholarList3  scholarList4\n",
            "calculator            NaN           NaN           1.0           NaN\n",
            "chair                 NaN           NaN           2.0           NaN\n",
            "desk                  NaN           4.0           NaN           NaN\n",
            "eraser                2.0           NaN           NaN           NaN\n",
            "glue                  4.0           NaN           NaN           NaN\n",
            "highlighter           NaN           1.0           NaN           NaN\n",
            "notebook              2.0           NaN           NaN           NaN\n",
            "paper                 NaN           NaN          30.0           NaN\n",
            "ruler                 1.0           NaN           NaN           NaN\n",
            "scissors              NaN           6.0           NaN           NaN\n",
            "stapler               NaN           2.0           NaN           NaN\n",
            "whiteout              NaN           NaN           2.0           NaN\n",
            "calculator    NaN\n",
            "chair         NaN\n",
            "desk          NaN\n",
            "eraser        NaN\n",
            "glue          NaN\n",
            "highlighter   NaN\n",
            "notebook      NaN\n",
            "paper         NaN\n",
            "ruler         NaN\n",
            "scissors      NaN\n",
            "stapler       NaN\n",
            "whiteout      NaN\n",
            "Name: scholarList4, dtype: float64\n",
            "             scholarList1  scholarList2  scholarList3\n",
            "calculator            NaN           NaN           1.0\n",
            "chair                 NaN           NaN           2.0\n",
            "desk                  NaN           4.0           NaN\n",
            "eraser                2.0           NaN           NaN\n",
            "glue                  4.0           NaN           NaN\n",
            "highlighter           NaN           1.0           NaN\n",
            "notebook              2.0           NaN           NaN\n",
            "paper                 NaN           NaN          30.0\n",
            "ruler                 1.0           NaN           NaN\n",
            "scissors              NaN           6.0           NaN\n",
            "stapler               NaN           2.0           NaN\n",
            "whiteout              NaN           NaN           2.0\n",
            "calculator    1.0\n",
            "chair         2.0\n",
            "Name: scholarList3, dtype: float64\n"
          ]
        }
      ]
    },
    {
      "cell_type": "markdown",
      "source": [
        "CASE STUDY:\n",
        "\n",
        "MOVIE DATA ANALYSIS"
      ],
      "metadata": {
        "id": "afx_RFy7G8LK"
      }
    },
    {
      "cell_type": "code",
      "source": [],
      "metadata": {
        "id": "_1AtFOtPHBNk"
      },
      "execution_count": null,
      "outputs": []
    }
  ]
}