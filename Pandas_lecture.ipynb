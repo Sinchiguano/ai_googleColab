{
  "cells": [
    {
      "cell_type": "markdown",
      "metadata": {
        "id": "view-in-github",
        "colab_type": "text"
      },
      "source": [
        "<a href=\"https://colab.research.google.com/github/Sinchiguano/ai_googleColab/blob/main/Pandas_lecture.ipynb\" target=\"_parent\"><img src=\"https://colab.research.google.com/assets/colab-badge.svg\" alt=\"Open In Colab\"/></a>"
      ]
    },
    {
      "cell_type": "markdown",
      "metadata": {
        "id": "YJkS7CchzggW"
      },
      "source": [
        "Introduction to pandas Data Structurees"
      ]
    },
    {
      "cell_type": "code",
      "execution_count": null,
      "metadata": {
        "id": "lvprw16kzj8w"
      },
      "outputs": [],
      "source": [
        "import pandas as pd"
      ]
    },
    {
      "cell_type": "markdown",
      "metadata": {
        "id": "FZxMwcyLzpmU"
      },
      "source": [
        "DATA STRUCTURES"
      ]
    },
    {
      "cell_type": "code",
      "execution_count": null,
      "metadata": {
        "id": "R50_0_bezvtK"
      },
      "outputs": [],
      "source": [
        "ser=pd.Series(data=[1,2,3], index=['one','two','three'])\n",
        "print(ser.shape)\n",
        "print(ser)\n",
        "\n",
        "print('\\n')\n",
        "ser=pd.Series([1,2,3],['one','two','three'])\n",
        "print(ser.shape)\n",
        "print(ser)\n",
        "\n",
        "print('\\n')\n",
        "ser=pd.Series([1,'food','rice'],['one','two','three'])\n",
        "print(ser.shape)\n",
        "print(ser)\n",
        "\n",
        "print('\\n')\n",
        "print(ser['two'])\n",
        "print(ser.index)"
      ]
    },
    {
      "cell_type": "code",
      "execution_count": null,
      "metadata": {
        "id": "YbNc9Ve00wP7"
      },
      "outputs": [],
      "source": [
        "ser=pd.Series([1,'food','rice'],['one','two','three'])\n",
        "print(ser.loc['three'])\n",
        "print('\\n')\n",
        "print(ser[['one','three']])\n",
        "print('\\n')\n",
        "print(ser[[0,2]])\n",
        "print('\\n')\n",
        "print('two' in ser)\n"
      ]
    },
    {
      "cell_type": "markdown",
      "metadata": {
        "id": "seXvvwEz2oiV"
      },
      "source": [
        "PANDAS DATAFRAME\n",
        "\n",
        "it is a 2-dimensional labeled data structure"
      ]
    },
    {
      "cell_type": "code",
      "execution_count": null,
      "metadata": {
        "id": "X354NuH72wVQ"
      },
      "outputs": [],
      "source": [
        "tmp=dict()\n",
        "print(type(tmp))\n",
        "import pandas as pd\n",
        "s1=pd.Series(data=[2,1,2,4],index=['eraser','ruler','notebook','glue'])\n",
        "s2=pd.Series(data=[4,2,6,1],index=['desk','stapler','scissors','highlighter'])\n",
        "s3=pd.Series(data=[1,2,2,30],index=['calculator','chair','whiteout','paper'])\n",
        "\n",
        "\n",
        "tmp['scholarList1']=s1\n",
        "tmp['scholarList2']=s2\n",
        "tmp['scholarList3']=s3\n",
        "print('-------------')\n",
        "# # Iterate over the keys\n",
        "# for key in tmp:\n",
        "#     # Access the value using the key\n",
        "#     print(tmp[key])\n",
        "\n",
        "print('----NEW ONE------------')\n",
        "dframe=pd.DataFrame(tmp)\n",
        "# print(dframe.shape)\n",
        "print('\\n')\n",
        "print(dframe)"
      ]
    },
    {
      "cell_type": "code",
      "execution_count": null,
      "metadata": {
        "id": "YSCLyZZn_BLJ"
      },
      "outputs": [],
      "source": [
        "print(dframe.index)\n",
        "print('------')\n",
        "print(dframe.columns)\n",
        "\n",
        "\n",
        "print('------')\n",
        "newDataFrame=pd.DataFrame(tmp,index=['eraser','scissors','paper'])\n",
        "print(newDataFrame)"
      ]
    },
    {
      "cell_type": "markdown",
      "metadata": {
        "id": "T2uEWkM1BBFK"
      },
      "source": [
        "CREATE DATAFRAME FROM LIST OF PYTHON DICTIONARIES"
      ]
    },
    {
      "cell_type": "code",
      "execution_count": null,
      "metadata": {
        "id": "aJy4kBKnBJ_K"
      },
      "outputs": [],
      "source": [
        "data=list()\n",
        "data.append({'alex':1,'joe':2})\n",
        "data.append({'ema':5,'dora':10,'alice':50})\n",
        "print(data)\n",
        "newDframe=pd.DataFrame(data)\n",
        "print('-------')\n",
        "print(newDframe)\n",
        "print('\\n')\n",
        "newDframe=pd.DataFrame(data,index=['orange','red'])\n",
        "newDframe\n",
        "print('\\n')\n",
        "nDf1=pd.DataFrame(data, index=['one','two'],columns=['ema','dora','joe'])\n",
        "print(nDf1)"
      ]
    },
    {
      "cell_type": "markdown",
      "metadata": {
        "id": "RylZKbakC20d"
      },
      "source": [
        "BASIC DATAFRAME OPERATIONS"
      ]
    },
    {
      "cell_type": "code",
      "execution_count": null,
      "metadata": {
        "id": "ltzrZgc2C8Jr"
      },
      "outputs": [],
      "source": [
        "print(dframe)\n",
        "print('\\n')\n",
        "print(dframe['scholarList1'])\n",
        "print('\\n')\n",
        "dframe['scholarList4']=dframe['scholarList1']+dframe['scholarList3']\n",
        "print(dframe)"
      ]
    },
    {
      "cell_type": "code",
      "execution_count": null,
      "metadata": {
        "id": "KDp6nL-lDrIj"
      },
      "outputs": [],
      "source": [
        "filter=dframe['scholarList1']>3\n",
        "dframe2=dframe[filter]\n",
        "print(dframe2)\n",
        "print(dframe)\n",
        "print(dframe.pop('scholarList4'))\n",
        "print(dframe)\n",
        "del dframe['scholarList2']\n",
        "print(dframe['scholarList3'][:2])"
      ]
    },
    {
      "cell_type": "markdown",
      "metadata": {
        "id": "afx_RFy7G8LK"
      },
      "source": [
        "CASE STUDY:\n",
        "\n",
        "MOVIE DATA ANALYSIS"
      ]
    },
    {
      "cell_type": "code",
      "execution_count": null,
      "metadata": {
        "id": "XNp82GApUBX_"
      },
      "outputs": [],
      "source": [
        "# link https://grouplens.org/datasets/movielens/\n",
        "\n",
        "\n",
        "url='https://raw.githubusercontent.com/Sinchiguano/ai_googleColab/main/smallDataset/movies.csv'\n",
        "df = pd.read_csv(url)\n",
        "\n",
        "print(df.head(5))\n",
        "print('-----')\n",
        "print(df.index)\n",
        "print(df.columns)\n",
        "print(df.shape)\n",
        "print(type(df))\n",
        "df.head(15)\n",
        "movies = pd.read_csv(url)"
      ]
    },
    {
      "cell_type": "code",
      "execution_count": null,
      "metadata": {
        "id": "DaALWvpOX_VN"
      },
      "outputs": [],
      "source": [
        "\n",
        "\n",
        "url='https://raw.githubusercontent.com/Sinchiguano/ai_googleColab/main/smallDataset/tags.csv'\n",
        "df = pd.read_csv(url)\n",
        "\n",
        "print(df.head(5))\n",
        "print('-----')\n",
        "print(df.index)\n",
        "print(df.columns)\n",
        "print(df.shape)\n",
        "print(type(df))\n",
        "df.head(15)\n",
        "\n",
        "tags = pd.read_csv(url)"
      ]
    },
    {
      "cell_type": "code",
      "execution_count": null,
      "metadata": {
        "id": "y98Yx_coYFMC"
      },
      "outputs": [],
      "source": [
        "\n",
        "url='https://raw.githubusercontent.com/Sinchiguano/ai_googleColab/main/smallDataset/ratings.csv'\n",
        "df = pd.read_csv(url)\n",
        "\n",
        "print(df.head(5))\n",
        "print('-----')\n",
        "print(df.index)\n",
        "print(df.columns)\n",
        "print(df.shape)\n",
        "print(type(df))\n",
        "df.head(15)\n",
        "\n",
        "ratings = pd.read_csv(url)"
      ]
    },
    {
      "cell_type": "code",
      "execution_count": null,
      "metadata": {
        "id": "Idl5WXlDDIPX"
      },
      "outputs": [],
      "source": [
        "del ratings['timestamp']\n",
        "del tags['timestamp']\n",
        "print(ratings.shape)\n",
        "print(tags.shape)\n",
        "print(movies.shape)"
      ]
    },
    {
      "cell_type": "code",
      "execution_count": null,
      "metadata": {
        "id": "AgBo9ogxDVX0"
      },
      "outputs": [],
      "source": [
        "print(tags.columns)\n",
        "print(tags.index)\n",
        "print(tags.head(5))\n",
        "print('\\n')\n",
        "#extract the row 1, 100, 150\n",
        "print(tags.iloc[[1,100,150]])"
      ]
    },
    {
      "cell_type": "markdown",
      "metadata": {
        "id": "sFwCDshgFUWs"
      },
      "source": [
        "DESCRIPTIVE STATISTICS\n"
      ]
    },
    {
      "cell_type": "code",
      "execution_count": null,
      "metadata": {
        "id": "SAlaJXCqFc35"
      },
      "outputs": [],
      "source": [
        "movies.head(5)"
      ]
    },
    {
      "cell_type": "code",
      "execution_count": null,
      "metadata": {
        "id": "uJOmn2vHFv2g"
      },
      "outputs": [],
      "source": [
        "tags.head(5)"
      ]
    },
    {
      "cell_type": "code",
      "execution_count": null,
      "metadata": {
        "id": "6b6t3eXoFrxQ"
      },
      "outputs": [],
      "source": [
        "ratings.head(5)"
      ]
    },
    {
      "cell_type": "code",
      "execution_count": null,
      "metadata": {
        "id": "ts3DQXk5GysM"
      },
      "outputs": [],
      "source": [
        "print(ratings['rating'].describe())\n",
        "print(ratings.shape)\n",
        "print('mean: {}'.format(ratings['rating'].mean()))\n",
        "print('min: {}'.format(ratings['rating'].min()))\n",
        "print('max: {}'.format(ratings['rating'].max()))\n",
        "print('std: {}'.format(ratings['rating'].std()))\n",
        "print('mode: {}'.format(ratings['rating'].mode()))\n",
        "print('\\n')\n",
        "print(ratings.corr())"
      ]
    },
    {
      "cell_type": "code",
      "execution_count": null,
      "metadata": {
        "id": "TSnlJ-nsJSnX"
      },
      "outputs": [],
      "source": [
        "mask=ratings['rating']>5\n",
        "print(type(mask))\n",
        "print(mask.any())\n",
        "print(mask.shape)"
      ]
    },
    {
      "cell_type": "code",
      "execution_count": null,
      "metadata": {
        "id": "UUy4h2yWJg-O"
      },
      "outputs": [],
      "source": [
        "mask1=ratings['rating']>0\n",
        "print(mask1.any())"
      ]
    },
    {
      "cell_type": "markdown",
      "metadata": {
        "id": "HQFHSz0yJpAS"
      },
      "source": [
        "DATA CLEANING: HANDLING MISSING DATA"
      ]
    },
    {
      "cell_type": "code",
      "execution_count": null,
      "metadata": {
        "id": "0uRMpS-OJtcd"
      },
      "outputs": [],
      "source": [
        "print(movies.shape)\n",
        "movies.head(3)\n",
        "movies.isnull().any()\n",
        "\n",
        "print(tags.shape)\n",
        "tags.head(3)\n",
        "# tmp=tags.isnull().any()\n",
        "# print(tmp.shape)\n",
        "# print(tmp)\n",
        "\n",
        "# tmp=tags.dropna()\n",
        "# print(ratings.shape)\n",
        "# ratings.head(3)\n",
        "# movies.isnull().any()"
      ]
    },
    {
      "cell_type": "markdown",
      "metadata": {
        "id": "zAE8KKgafBjA"
      },
      "source": [
        "DATA VISUALIZATION"
      ]
    },
    {
      "cell_type": "code",
      "execution_count": null,
      "metadata": {
        "id": "VmqdtxyofDeY"
      },
      "outputs": [],
      "source": [
        "%matplotlib inline\n",
        "# ratings.hist(column='rating',figsize=(10,7))\n",
        "ratings.boxplot(column='rating',figsize=(10,7))"
      ]
    },
    {
      "cell_type": "markdown",
      "metadata": {
        "id": "pZp83k9igQ5u"
      },
      "source": [
        "SLICING OUT COLUMNS"
      ]
    },
    {
      "cell_type": "code",
      "execution_count": null,
      "metadata": {
        "id": "Fh-VUK1YgTeO"
      },
      "outputs": [],
      "source": [
        "# print(tags.head(3))\n",
        "\n",
        "print(movies.head(3))\n",
        "\n",
        "print(movies[['title','genres']].head(5))\n",
        "movies[['title','genres']].head(5)\n"
      ]
    },
    {
      "cell_type": "code",
      "execution_count": null,
      "metadata": {
        "id": "aEY2ZMRDizr2"
      },
      "outputs": [],
      "source": [
        "ratings[1000:1010]"
      ]
    },
    {
      "cell_type": "code",
      "execution_count": null,
      "metadata": {
        "id": "NrR1g6FGjAqg"
      },
      "outputs": [],
      "source": [
        "print(tags.head(3))\n",
        "tag_counts=tags['tag'].value_counts()\n",
        "tag_counts[:20]"
      ]
    },
    {
      "cell_type": "code",
      "execution_count": null,
      "metadata": {
        "id": "Oa_biOH6jrQV"
      },
      "outputs": [],
      "source": [
        "tag_counts[:20].plot(kind='bar',figsize=(15,8))"
      ]
    },
    {
      "cell_type": "markdown",
      "metadata": {
        "id": "4uBArzF9kec8"
      },
      "source": [
        "FILTERS FOR SELECTING ROWS"
      ]
    },
    {
      "cell_type": "code",
      "execution_count": null,
      "metadata": {
        "id": "WVFSxbxlkhLY"
      },
      "outputs": [],
      "source": [
        "mask=ratings['rating']>=4.0\n",
        "ratings[mask].tail(5)\n",
        "ratings[mask][30:50]"
      ]
    },
    {
      "cell_type": "code",
      "source": [
        "is_animation_mask=movies['genres'].str.contains('Animation')\n",
        "movies[is_animation_mask].head(10)"
      ],
      "metadata": {
        "id": "t9K2SmzGbxKE"
      },
      "execution_count": null,
      "outputs": []
    },
    {
      "cell_type": "markdown",
      "source": [
        "GROUP BY AND AGGREGATE"
      ],
      "metadata": {
        "id": "tcUrFnFMbinM"
      }
    },
    {
      "cell_type": "code",
      "source": [
        "print(ratings.head(3))\n",
        "print('\\n')\n",
        "rating_count=ratings.groupby('rating').count()\n",
        "print(rating_count)\n"
      ],
      "metadata": {
        "id": "dxcTbevIcSlj"
      },
      "execution_count": null,
      "outputs": []
    },
    {
      "cell_type": "code",
      "source": [
        "average_rating=ratings[['movieId','rating']].groupby('movieId').mean()\n",
        "average_rating.head(15)"
      ],
      "metadata": {
        "id": "t_y6ST9adnO_"
      },
      "execution_count": null,
      "outputs": []
    },
    {
      "cell_type": "code",
      "source": [
        "average_rating=ratings[['movieId','rating']].groupby('movieId').count()\n",
        "average_rating.head(15)"
      ],
      "metadata": {
        "id": "qDOvsHCPelVQ"
      },
      "execution_count": null,
      "outputs": []
    },
    {
      "cell_type": "markdown",
      "source": [
        "MERGES DATAFRAME"
      ],
      "metadata": {
        "id": "J8Pc3IHXez21"
      }
    },
    {
      "cell_type": "code",
      "source": [
        "print(tags.head(3))\n",
        "print(tags.shape)\n",
        "print('\\n')\n",
        "# print(movies.head(3))\n",
        "print(movies.shape)\n",
        "movies.head(3)"
      ],
      "metadata": {
        "id": "O9_FSWMwe9xx"
      },
      "execution_count": null,
      "outputs": []
    },
    {
      "cell_type": "code",
      "source": [
        "t=movies.merge(tags,on='movieId',how='inner')\n",
        "t.head(3)"
      ],
      "metadata": {
        "id": "7nzoEZeFi5Qj"
      },
      "execution_count": null,
      "outputs": []
    },
    {
      "cell_type": "code",
      "source": [
        "avg=ratings.groupby('movieId',as_index=False).mean()\n",
        "del avg['userId']\n",
        "avg.head(3)"
      ],
      "metadata": {
        "id": "RikQm5sujO4f"
      },
      "execution_count": null,
      "outputs": []
    },
    {
      "cell_type": "code",
      "source": [
        "movies.head(3)\n",
        "tmp=movies.merge(avg,on='movieId', how='inner')\n",
        "tmp.head(3)"
      ],
      "metadata": {
        "id": "k8QGHtHRkJGP"
      },
      "execution_count": null,
      "outputs": []
    },
    {
      "cell_type": "code",
      "source": [
        "is_comedy_mask=tmp['genres'].str.contains('Comedy')\n",
        "tmp[is_comedy_mask].head(3)\n",
        "# tmp[is_comedy_mask][:3]"
      ],
      "metadata": {
        "id": "_lPGbth0kcde"
      },
      "execution_count": null,
      "outputs": []
    },
    {
      "cell_type": "code",
      "source": [
        "is_highly_rating_mask=tmp['rating']>=4.0\n",
        "tmp[is_highly_rating_mask].head(10)"
      ],
      "metadata": {
        "id": "wHSJ6WWFl3as"
      },
      "execution_count": null,
      "outputs": []
    },
    {
      "cell_type": "code",
      "source": [
        "newTmp=tmp[is_highly_rating_mask & is_comedy_mask]\n",
        "print(tmp.shape)\n",
        "print(newTmp.shape)\n",
        "\n",
        "print(newTmp[:10])"
      ],
      "metadata": {
        "id": "VY8fl4q-lPqH"
      },
      "execution_count": null,
      "outputs": []
    },
    {
      "cell_type": "markdown",
      "source": [
        "PARSING TIMESTAMPS"
      ],
      "metadata": {
        "id": "ou6LnOQtoZAS"
      }
    },
    {
      "cell_type": "code",
      "source": [
        "\n",
        "url='https://raw.githubusercontent.com/Sinchiguano/ai_googleColab/main/smallDataset/tags.csv'\n",
        "df = pd.read_csv(url,sep=',')\n",
        "# print(df.head(5))\n",
        "print(df.dtypes)"
      ],
      "metadata": {
        "id": "LowL9VicofSX"
      },
      "execution_count": null,
      "outputs": []
    },
    {
      "cell_type": "code",
      "source": [
        "print(df.head(3))\n",
        "df['datetime']=pd.to_datetime(df['timestamp'],unit='s')\n",
        "df[:5]"
      ],
      "metadata": {
        "id": "5oVYi5do8ENO"
      },
      "execution_count": null,
      "outputs": []
    },
    {
      "cell_type": "code",
      "source": [
        "print(df.shape)\n",
        "mask=df['datetime']>'2015-02-01'\n",
        "dfNew=df[mask]\n",
        "print(dfNew.shape)\n"
      ],
      "metadata": {
        "id": "DSkmXwPB9GD5"
      },
      "execution_count": null,
      "outputs": []
    },
    {
      "cell_type": "code",
      "source": [
        "dfNewOrdered=dfNew.sort_values(by='datetime',ascending=True)\n",
        "dfNewOrdered.head(15)\n",
        "df['datetime'].dt.date.head(3)\n",
        "\n",
        "df['datetime'].dt.date\n",
        "df['datetime'].dt.time\n",
        "\n",
        "# print(df['datetime'].dt.date.unique())\n",
        "\n",
        "\n",
        "print(df['datetime'].unique())\n",
        "print(df.head(2))\n"
      ],
      "metadata": {
        "colab": {
          "base_uri": "https://localhost:8080/",
          "height": 559
        },
        "id": "VDVHPfiV9kU0",
        "outputId": "8936242b-070c-4590-b03a-83d91285e3c9"
      },
      "execution_count": 468,
      "outputs": [
        {
          "output_type": "stream",
          "name": "stdout",
          "text": [
            "['2015-10-24T19:29:54.000000000' '2015-10-24T19:29:56.000000000'\n",
            " '2015-10-24T19:29:52.000000000' ... '2017-05-03T20:39:44.000000000'\n",
            " '2017-05-03T20:39:38.000000000' '2017-05-03T20:44:30.000000000']\n",
            "   userId  movieId              tag   timestamp            datetime\n",
            "0       2    60756            funny  1445714994 2015-10-24 19:29:54\n",
            "1       2    60756  Highly quotable  1445714996 2015-10-24 19:29:56\n"
          ]
        },
        {
          "output_type": "execute_result",
          "data": {
            "text/plain": [
              "            userId  movieId  tag  timestamp  datetime\n",
              "datetime                                             \n",
              "2006-01-13     196      196  196        196       196\n",
              "2006-01-14     396      396  396        396       396\n",
              "2006-01-15      35       35   35         35        35\n",
              "2006-01-16     271      271  271        271       271\n",
              "2006-01-17      35       35   35         35        35\n",
              "...            ...      ...  ...        ...       ...\n",
              "2018-06-29       9        9    9          9         9\n",
              "2018-07-01       8        8    8          8         8\n",
              "2018-07-27      13       13   13         13        13\n",
              "2018-09-13      11       11   11         11        11\n",
              "2018-09-16      35       35   35         35        35\n",
              "\n",
              "[174 rows x 5 columns]"
            ],
            "text/html": [
              "\n",
              "  <div id=\"df-fc117f67-80c4-46db-8a1e-0c39c885d601\">\n",
              "    <div class=\"colab-df-container\">\n",
              "      <div>\n",
              "<style scoped>\n",
              "    .dataframe tbody tr th:only-of-type {\n",
              "        vertical-align: middle;\n",
              "    }\n",
              "\n",
              "    .dataframe tbody tr th {\n",
              "        vertical-align: top;\n",
              "    }\n",
              "\n",
              "    .dataframe thead th {\n",
              "        text-align: right;\n",
              "    }\n",
              "</style>\n",
              "<table border=\"1\" class=\"dataframe\">\n",
              "  <thead>\n",
              "    <tr style=\"text-align: right;\">\n",
              "      <th></th>\n",
              "      <th>userId</th>\n",
              "      <th>movieId</th>\n",
              "      <th>tag</th>\n",
              "      <th>timestamp</th>\n",
              "      <th>datetime</th>\n",
              "    </tr>\n",
              "    <tr>\n",
              "      <th>datetime</th>\n",
              "      <th></th>\n",
              "      <th></th>\n",
              "      <th></th>\n",
              "      <th></th>\n",
              "      <th></th>\n",
              "    </tr>\n",
              "  </thead>\n",
              "  <tbody>\n",
              "    <tr>\n",
              "      <th>2006-01-13</th>\n",
              "      <td>196</td>\n",
              "      <td>196</td>\n",
              "      <td>196</td>\n",
              "      <td>196</td>\n",
              "      <td>196</td>\n",
              "    </tr>\n",
              "    <tr>\n",
              "      <th>2006-01-14</th>\n",
              "      <td>396</td>\n",
              "      <td>396</td>\n",
              "      <td>396</td>\n",
              "      <td>396</td>\n",
              "      <td>396</td>\n",
              "    </tr>\n",
              "    <tr>\n",
              "      <th>2006-01-15</th>\n",
              "      <td>35</td>\n",
              "      <td>35</td>\n",
              "      <td>35</td>\n",
              "      <td>35</td>\n",
              "      <td>35</td>\n",
              "    </tr>\n",
              "    <tr>\n",
              "      <th>2006-01-16</th>\n",
              "      <td>271</td>\n",
              "      <td>271</td>\n",
              "      <td>271</td>\n",
              "      <td>271</td>\n",
              "      <td>271</td>\n",
              "    </tr>\n",
              "    <tr>\n",
              "      <th>2006-01-17</th>\n",
              "      <td>35</td>\n",
              "      <td>35</td>\n",
              "      <td>35</td>\n",
              "      <td>35</td>\n",
              "      <td>35</td>\n",
              "    </tr>\n",
              "    <tr>\n",
              "      <th>...</th>\n",
              "      <td>...</td>\n",
              "      <td>...</td>\n",
              "      <td>...</td>\n",
              "      <td>...</td>\n",
              "      <td>...</td>\n",
              "    </tr>\n",
              "    <tr>\n",
              "      <th>2018-06-29</th>\n",
              "      <td>9</td>\n",
              "      <td>9</td>\n",
              "      <td>9</td>\n",
              "      <td>9</td>\n",
              "      <td>9</td>\n",
              "    </tr>\n",
              "    <tr>\n",
              "      <th>2018-07-01</th>\n",
              "      <td>8</td>\n",
              "      <td>8</td>\n",
              "      <td>8</td>\n",
              "      <td>8</td>\n",
              "      <td>8</td>\n",
              "    </tr>\n",
              "    <tr>\n",
              "      <th>2018-07-27</th>\n",
              "      <td>13</td>\n",
              "      <td>13</td>\n",
              "      <td>13</td>\n",
              "      <td>13</td>\n",
              "      <td>13</td>\n",
              "    </tr>\n",
              "    <tr>\n",
              "      <th>2018-09-13</th>\n",
              "      <td>11</td>\n",
              "      <td>11</td>\n",
              "      <td>11</td>\n",
              "      <td>11</td>\n",
              "      <td>11</td>\n",
              "    </tr>\n",
              "    <tr>\n",
              "      <th>2018-09-16</th>\n",
              "      <td>35</td>\n",
              "      <td>35</td>\n",
              "      <td>35</td>\n",
              "      <td>35</td>\n",
              "      <td>35</td>\n",
              "    </tr>\n",
              "  </tbody>\n",
              "</table>\n",
              "<p>174 rows × 5 columns</p>\n",
              "</div>\n",
              "      <button class=\"colab-df-convert\" onclick=\"convertToInteractive('df-fc117f67-80c4-46db-8a1e-0c39c885d601')\"\n",
              "              title=\"Convert this dataframe to an interactive table.\"\n",
              "              style=\"display:none;\">\n",
              "        \n",
              "  <svg xmlns=\"http://www.w3.org/2000/svg\" height=\"24px\"viewBox=\"0 0 24 24\"\n",
              "       width=\"24px\">\n",
              "    <path d=\"M0 0h24v24H0V0z\" fill=\"none\"/>\n",
              "    <path d=\"M18.56 5.44l.94 2.06.94-2.06 2.06-.94-2.06-.94-.94-2.06-.94 2.06-2.06.94zm-11 1L8.5 8.5l.94-2.06 2.06-.94-2.06-.94L8.5 2.5l-.94 2.06-2.06.94zm10 10l.94 2.06.94-2.06 2.06-.94-2.06-.94-.94-2.06-.94 2.06-2.06.94z\"/><path d=\"M17.41 7.96l-1.37-1.37c-.4-.4-.92-.59-1.43-.59-.52 0-1.04.2-1.43.59L10.3 9.45l-7.72 7.72c-.78.78-.78 2.05 0 2.83L4 21.41c.39.39.9.59 1.41.59.51 0 1.02-.2 1.41-.59l7.78-7.78 2.81-2.81c.8-.78.8-2.07 0-2.86zM5.41 20L4 18.59l7.72-7.72 1.47 1.35L5.41 20z\"/>\n",
              "  </svg>\n",
              "      </button>\n",
              "      \n",
              "  <style>\n",
              "    .colab-df-container {\n",
              "      display:flex;\n",
              "      flex-wrap:wrap;\n",
              "      gap: 12px;\n",
              "    }\n",
              "\n",
              "    .colab-df-convert {\n",
              "      background-color: #E8F0FE;\n",
              "      border: none;\n",
              "      border-radius: 50%;\n",
              "      cursor: pointer;\n",
              "      display: none;\n",
              "      fill: #1967D2;\n",
              "      height: 32px;\n",
              "      padding: 0 0 0 0;\n",
              "      width: 32px;\n",
              "    }\n",
              "\n",
              "    .colab-df-convert:hover {\n",
              "      background-color: #E2EBFA;\n",
              "      box-shadow: 0px 1px 2px rgba(60, 64, 67, 0.3), 0px 1px 3px 1px rgba(60, 64, 67, 0.15);\n",
              "      fill: #174EA6;\n",
              "    }\n",
              "\n",
              "    [theme=dark] .colab-df-convert {\n",
              "      background-color: #3B4455;\n",
              "      fill: #D2E3FC;\n",
              "    }\n",
              "\n",
              "    [theme=dark] .colab-df-convert:hover {\n",
              "      background-color: #434B5C;\n",
              "      box-shadow: 0px 1px 3px 1px rgba(0, 0, 0, 0.15);\n",
              "      filter: drop-shadow(0px 1px 2px rgba(0, 0, 0, 0.3));\n",
              "      fill: #FFFFFF;\n",
              "    }\n",
              "  </style>\n",
              "\n",
              "      <script>\n",
              "        const buttonEl =\n",
              "          document.querySelector('#df-fc117f67-80c4-46db-8a1e-0c39c885d601 button.colab-df-convert');\n",
              "        buttonEl.style.display =\n",
              "          google.colab.kernel.accessAllowed ? 'block' : 'none';\n",
              "\n",
              "        async function convertToInteractive(key) {\n",
              "          const element = document.querySelector('#df-fc117f67-80c4-46db-8a1e-0c39c885d601');\n",
              "          const dataTable =\n",
              "            await google.colab.kernel.invokeFunction('convertToInteractive',\n",
              "                                                     [key], {});\n",
              "          if (!dataTable) return;\n",
              "\n",
              "          const docLinkHtml = 'Like what you see? Visit the ' +\n",
              "            '<a target=\"_blank\" href=https://colab.research.google.com/notebooks/data_table.ipynb>data table notebook</a>'\n",
              "            + ' to learn more about interactive tables.';\n",
              "          element.innerHTML = '';\n",
              "          dataTable['output_type'] = 'display_data';\n",
              "          await google.colab.output.renderOutput(dataTable, element);\n",
              "          const docLink = document.createElement('div');\n",
              "          docLink.innerHTML = docLinkHtml;\n",
              "          element.appendChild(docLink);\n",
              "        }\n",
              "      </script>\n",
              "    </div>\n",
              "  </div>\n",
              "  "
            ]
          },
          "metadata": {},
          "execution_count": 468
        }
      ]
    }
  ],
  "metadata": {
    "colab": {
      "provenance": [],
      "authorship_tag": "ABX9TyMLSqtKDfVqQdkdH64LMqxR",
      "include_colab_link": true
    },
    "kernelspec": {
      "display_name": "Python 3",
      "name": "python3"
    },
    "language_info": {
      "name": "python"
    }
  },
  "nbformat": 4,
  "nbformat_minor": 0
}