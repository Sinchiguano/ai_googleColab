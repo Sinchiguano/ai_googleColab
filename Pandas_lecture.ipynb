{
  "nbformat": 4,
  "nbformat_minor": 0,
  "metadata": {
    "colab": {
      "provenance": [],
      "authorship_tag": "ABX9TyPcdUWL9QDCxcAH1UIjig4J",
      "include_colab_link": true
    },
    "kernelspec": {
      "name": "python3",
      "display_name": "Python 3"
    },
    "language_info": {
      "name": "python"
    }
  },
  "cells": [
    {
      "cell_type": "markdown",
      "metadata": {
        "id": "view-in-github",
        "colab_type": "text"
      },
      "source": [
        "<a href=\"https://colab.research.google.com/github/Sinchiguano/ai_googleColab/blob/main/Pandas_lecture.ipynb\" target=\"_parent\"><img src=\"https://colab.research.google.com/assets/colab-badge.svg\" alt=\"Open In Colab\"/></a>"
      ]
    },
    {
      "cell_type": "markdown",
      "source": [
        "Introduction to pandas Data Structurees"
      ],
      "metadata": {
        "id": "YJkS7CchzggW"
      }
    },
    {
      "cell_type": "code",
      "source": [
        "import pandas as pd"
      ],
      "metadata": {
        "id": "lvprw16kzj8w"
      },
      "execution_count": 2,
      "outputs": []
    },
    {
      "cell_type": "markdown",
      "source": [
        "DATA STRUCTURES"
      ],
      "metadata": {
        "id": "FZxMwcyLzpmU"
      }
    },
    {
      "cell_type": "code",
      "source": [
        "ser=pd.Series(data=[1,2,3], index=['one','two','three'])\n",
        "print(ser.shape)\n",
        "print(ser)\n",
        "\n",
        "print('\\n')\n",
        "ser=pd.Series([1,2,3],['one','two','three'])\n",
        "print(ser.shape)\n",
        "print(ser)\n",
        "\n",
        "print('\\n')\n",
        "ser=pd.Series([1,'food','rice'],['one','two','three'])\n",
        "print(ser.shape)\n",
        "print(ser)\n",
        "\n",
        "print('\\n')\n",
        "print(ser['two'])\n",
        "print(ser.index)"
      ],
      "metadata": {
        "colab": {
          "base_uri": "https://localhost:8080/"
        },
        "id": "R50_0_bezvtK",
        "outputId": "bdc2b12c-dec4-40ef-851d-cb975b647f96"
      },
      "execution_count": 3,
      "outputs": [
        {
          "output_type": "stream",
          "name": "stdout",
          "text": [
            "(3,)\n",
            "one      1\n",
            "two      2\n",
            "three    3\n",
            "dtype: int64\n",
            "\n",
            "\n",
            "(3,)\n",
            "one      1\n",
            "two      2\n",
            "three    3\n",
            "dtype: int64\n",
            "\n",
            "\n",
            "(3,)\n",
            "one         1\n",
            "two      food\n",
            "three    rice\n",
            "dtype: object\n",
            "\n",
            "\n",
            "food\n",
            "Index(['one', 'two', 'three'], dtype='object')\n"
          ]
        }
      ]
    },
    {
      "cell_type": "code",
      "source": [
        "ser=pd.Series([1,'food','rice'],['one','two','three'])\n",
        "print(ser.loc['three'])\n",
        "print('\\n')\n",
        "print(ser[['one','three']])\n",
        "print('\\n')\n",
        "print(ser[[0,2]])\n",
        "print('\\n')\n",
        "print('two' in ser)\n"
      ],
      "metadata": {
        "colab": {
          "base_uri": "https://localhost:8080/"
        },
        "id": "YbNc9Ve00wP7",
        "outputId": "c93ad254-1686-403c-90a6-8fadd3dbb456"
      },
      "execution_count": 4,
      "outputs": [
        {
          "output_type": "stream",
          "name": "stdout",
          "text": [
            "rice\n",
            "\n",
            "\n",
            "one         1\n",
            "three    rice\n",
            "dtype: object\n",
            "\n",
            "\n",
            "one         1\n",
            "three    rice\n",
            "dtype: object\n",
            "\n",
            "\n",
            "True\n"
          ]
        }
      ]
    },
    {
      "cell_type": "markdown",
      "source": [
        "PANDAS DATAFRAME\n",
        "\n",
        "it is a 2-dimensional labeled data structure"
      ],
      "metadata": {
        "id": "seXvvwEz2oiV"
      }
    },
    {
      "cell_type": "code",
      "source": [
        "tmp=dict()\n",
        "print(type(tmp))\n",
        "import pandas as pd\n",
        "s1=pd.Series(data=[2,1,2,4],index=['eraser','ruler','notebook','glue'])\n",
        "s2=pd.Series(data=[4,2,6,1],index=['desk','stapler','scissors','highlighter'])\n",
        "s3=pd.Series(data=[1,2,2,30],index=['calculator','chair','whiteout','paper'])\n",
        "\n",
        "\n",
        "tmp['scholarList1']=s1\n",
        "tmp['scholarList2']=s2\n",
        "tmp['scholarList3']=s3\n",
        "print('-------------')\n",
        "# # Iterate over the keys\n",
        "# for key in tmp:\n",
        "#     # Access the value using the key\n",
        "#     print(tmp[key])\n",
        "\n",
        "print('----NEW ONE------------')\n",
        "dframe=pd.DataFrame(tmp)\n",
        "# print(dframe.shape)\n",
        "print('\\n')\n",
        "print(dframe)"
      ],
      "metadata": {
        "colab": {
          "base_uri": "https://localhost:8080/"
        },
        "id": "X354NuH72wVQ",
        "outputId": "ba26a67f-1bdd-4ea5-9987-808937c40d6b"
      },
      "execution_count": 5,
      "outputs": [
        {
          "output_type": "stream",
          "name": "stdout",
          "text": [
            "<class 'dict'>\n",
            "-------------\n",
            "----NEW ONE------------\n",
            "\n",
            "\n",
            "             scholarList1  scholarList2  scholarList3\n",
            "calculator            NaN           NaN           1.0\n",
            "chair                 NaN           NaN           2.0\n",
            "desk                  NaN           4.0           NaN\n",
            "eraser                2.0           NaN           NaN\n",
            "glue                  4.0           NaN           NaN\n",
            "highlighter           NaN           1.0           NaN\n",
            "notebook              2.0           NaN           NaN\n",
            "paper                 NaN           NaN          30.0\n",
            "ruler                 1.0           NaN           NaN\n",
            "scissors              NaN           6.0           NaN\n",
            "stapler               NaN           2.0           NaN\n",
            "whiteout              NaN           NaN           2.0\n"
          ]
        }
      ]
    },
    {
      "cell_type": "code",
      "source": [
        "print(dframe.index)\n",
        "print('------')\n",
        "print(dframe.columns)\n",
        "\n",
        "\n",
        "print('------')\n",
        "newDataFrame=pd.DataFrame(tmp,index=['eraser','scissors','paper'])\n",
        "print(newDataFrame)"
      ],
      "metadata": {
        "colab": {
          "base_uri": "https://localhost:8080/"
        },
        "id": "YSCLyZZn_BLJ",
        "outputId": "0fdeb5d6-853b-48f0-c788-9b1d800ffbbb"
      },
      "execution_count": 6,
      "outputs": [
        {
          "output_type": "stream",
          "name": "stdout",
          "text": [
            "Index(['calculator', 'chair', 'desk', 'eraser', 'glue', 'highlighter',\n",
            "       'notebook', 'paper', 'ruler', 'scissors', 'stapler', 'whiteout'],\n",
            "      dtype='object')\n",
            "------\n",
            "Index(['scholarList1', 'scholarList2', 'scholarList3'], dtype='object')\n",
            "------\n",
            "          scholarList1  scholarList2  scholarList3\n",
            "eraser             2.0           NaN           NaN\n",
            "scissors           NaN           6.0           NaN\n",
            "paper              NaN           NaN          30.0\n"
          ]
        }
      ]
    },
    {
      "cell_type": "markdown",
      "source": [
        "CREATE DATAFRAME FROM LIST OF PYTHON DICTIONARIES"
      ],
      "metadata": {
        "id": "T2uEWkM1BBFK"
      }
    },
    {
      "cell_type": "code",
      "source": [
        "data=list()\n",
        "data.append({'alex':1,'joe':2})\n",
        "data.append({'ema':5,'dora':10,'alice':50})\n",
        "print(data)\n",
        "newDframe=pd.DataFrame(data)\n",
        "print('-------')\n",
        "print(newDframe)\n",
        "print('\\n')\n",
        "newDframe=pd.DataFrame(data,index=['orange','red'])\n",
        "newDframe\n",
        "print('\\n')\n",
        "nDf1=pd.DataFrame(data, index=['one','two'],columns=['ema','dora','joe'])\n",
        "print(nDf1)"
      ],
      "metadata": {
        "colab": {
          "base_uri": "https://localhost:8080/"
        },
        "id": "aJy4kBKnBJ_K",
        "outputId": "67056511-27e2-4db7-a8b2-0ebe5eb47020"
      },
      "execution_count": 7,
      "outputs": [
        {
          "output_type": "stream",
          "name": "stdout",
          "text": [
            "[{'alex': 1, 'joe': 2}, {'ema': 5, 'dora': 10, 'alice': 50}]\n",
            "-------\n",
            "   alex  joe  ema  dora  alice\n",
            "0   1.0  2.0  NaN   NaN    NaN\n",
            "1   NaN  NaN  5.0  10.0   50.0\n",
            "\n",
            "\n",
            "\n",
            "\n",
            "     ema  dora  joe\n",
            "one  NaN   NaN  2.0\n",
            "two  5.0  10.0  NaN\n"
          ]
        }
      ]
    },
    {
      "cell_type": "markdown",
      "source": [
        "BASIC DATAFRAME OPERATIONS"
      ],
      "metadata": {
        "id": "RylZKbakC20d"
      }
    },
    {
      "cell_type": "code",
      "source": [
        "print(dframe)\n",
        "print('\\n')\n",
        "print(dframe['scholarList1'])\n",
        "print('\\n')\n",
        "dframe['scholarList4']=dframe['scholarList1']+dframe['scholarList3']\n",
        "print(dframe)"
      ],
      "metadata": {
        "colab": {
          "base_uri": "https://localhost:8080/"
        },
        "id": "ltzrZgc2C8Jr",
        "outputId": "329c0249-9c90-4955-d917-fcf392c79dfb"
      },
      "execution_count": 8,
      "outputs": [
        {
          "output_type": "stream",
          "name": "stdout",
          "text": [
            "             scholarList1  scholarList2  scholarList3\n",
            "calculator            NaN           NaN           1.0\n",
            "chair                 NaN           NaN           2.0\n",
            "desk                  NaN           4.0           NaN\n",
            "eraser                2.0           NaN           NaN\n",
            "glue                  4.0           NaN           NaN\n",
            "highlighter           NaN           1.0           NaN\n",
            "notebook              2.0           NaN           NaN\n",
            "paper                 NaN           NaN          30.0\n",
            "ruler                 1.0           NaN           NaN\n",
            "scissors              NaN           6.0           NaN\n",
            "stapler               NaN           2.0           NaN\n",
            "whiteout              NaN           NaN           2.0\n",
            "\n",
            "\n",
            "calculator     NaN\n",
            "chair          NaN\n",
            "desk           NaN\n",
            "eraser         2.0\n",
            "glue           4.0\n",
            "highlighter    NaN\n",
            "notebook       2.0\n",
            "paper          NaN\n",
            "ruler          1.0\n",
            "scissors       NaN\n",
            "stapler        NaN\n",
            "whiteout       NaN\n",
            "Name: scholarList1, dtype: float64\n",
            "\n",
            "\n",
            "             scholarList1  scholarList2  scholarList3  scholarList4\n",
            "calculator            NaN           NaN           1.0           NaN\n",
            "chair                 NaN           NaN           2.0           NaN\n",
            "desk                  NaN           4.0           NaN           NaN\n",
            "eraser                2.0           NaN           NaN           NaN\n",
            "glue                  4.0           NaN           NaN           NaN\n",
            "highlighter           NaN           1.0           NaN           NaN\n",
            "notebook              2.0           NaN           NaN           NaN\n",
            "paper                 NaN           NaN          30.0           NaN\n",
            "ruler                 1.0           NaN           NaN           NaN\n",
            "scissors              NaN           6.0           NaN           NaN\n",
            "stapler               NaN           2.0           NaN           NaN\n",
            "whiteout              NaN           NaN           2.0           NaN\n"
          ]
        }
      ]
    },
    {
      "cell_type": "code",
      "source": [
        "filter=dframe['scholarList1']>3\n",
        "dframe2=dframe[filter]\n",
        "print(dframe2)\n",
        "print(dframe)\n",
        "print(dframe.pop('scholarList4'))\n",
        "print(dframe)\n",
        "del dframe['scholarList2']\n",
        "print(dframe['scholarList3'][:2])"
      ],
      "metadata": {
        "colab": {
          "base_uri": "https://localhost:8080/"
        },
        "id": "KDp6nL-lDrIj",
        "outputId": "74d27f73-62a4-4fa2-dd3b-cc80a016cdc9"
      },
      "execution_count": 9,
      "outputs": [
        {
          "output_type": "stream",
          "name": "stdout",
          "text": [
            "      scholarList1  scholarList2  scholarList3  scholarList4\n",
            "glue           4.0           NaN           NaN           NaN\n",
            "             scholarList1  scholarList2  scholarList3  scholarList4\n",
            "calculator            NaN           NaN           1.0           NaN\n",
            "chair                 NaN           NaN           2.0           NaN\n",
            "desk                  NaN           4.0           NaN           NaN\n",
            "eraser                2.0           NaN           NaN           NaN\n",
            "glue                  4.0           NaN           NaN           NaN\n",
            "highlighter           NaN           1.0           NaN           NaN\n",
            "notebook              2.0           NaN           NaN           NaN\n",
            "paper                 NaN           NaN          30.0           NaN\n",
            "ruler                 1.0           NaN           NaN           NaN\n",
            "scissors              NaN           6.0           NaN           NaN\n",
            "stapler               NaN           2.0           NaN           NaN\n",
            "whiteout              NaN           NaN           2.0           NaN\n",
            "calculator    NaN\n",
            "chair         NaN\n",
            "desk          NaN\n",
            "eraser        NaN\n",
            "glue          NaN\n",
            "highlighter   NaN\n",
            "notebook      NaN\n",
            "paper         NaN\n",
            "ruler         NaN\n",
            "scissors      NaN\n",
            "stapler       NaN\n",
            "whiteout      NaN\n",
            "Name: scholarList4, dtype: float64\n",
            "             scholarList1  scholarList2  scholarList3\n",
            "calculator            NaN           NaN           1.0\n",
            "chair                 NaN           NaN           2.0\n",
            "desk                  NaN           4.0           NaN\n",
            "eraser                2.0           NaN           NaN\n",
            "glue                  4.0           NaN           NaN\n",
            "highlighter           NaN           1.0           NaN\n",
            "notebook              2.0           NaN           NaN\n",
            "paper                 NaN           NaN          30.0\n",
            "ruler                 1.0           NaN           NaN\n",
            "scissors              NaN           6.0           NaN\n",
            "stapler               NaN           2.0           NaN\n",
            "whiteout              NaN           NaN           2.0\n",
            "calculator    1.0\n",
            "chair         2.0\n",
            "Name: scholarList3, dtype: float64\n"
          ]
        }
      ]
    },
    {
      "cell_type": "markdown",
      "source": [
        "CASE STUDY:\n",
        "\n",
        "MOVIE DATA ANALYSIS"
      ],
      "metadata": {
        "id": "afx_RFy7G8LK"
      }
    },
    {
      "cell_type": "code",
      "source": [],
      "metadata": {
        "id": "_1AtFOtPHBNk"
      },
      "execution_count": 9,
      "outputs": []
    },
    {
      "cell_type": "code",
      "source": [
        "url='https://raw.githubusercontent.com/Sinchiguano/ai_googleColab/main/movies.csv'\n",
        "df = pd.read_csv(url)\n",
        "\n",
        "print(df.head(5))\n",
        "print('-----')\n",
        "print(df.index)\n",
        "print(df.columns)\n",
        "print(df.shape)"
      ],
      "metadata": {
        "outputId": "b9ff49ba-6b64-4919-96bd-4b900825a00d",
        "colab": {
          "base_uri": "https://localhost:8080/"
        },
        "id": "XNp82GApUBX_"
      },
      "execution_count": 14,
      "outputs": [
        {
          "output_type": "stream",
          "name": "stdout",
          "text": [
            "   movieId                               title  \\\n",
            "0        1                    Toy Story (1995)   \n",
            "1        2                      Jumanji (1995)   \n",
            "2        3             Grumpier Old Men (1995)   \n",
            "3        4            Waiting to Exhale (1995)   \n",
            "4        5  Father of the Bride Part II (1995)   \n",
            "\n",
            "                                        genres  \n",
            "0  Adventure|Animation|Children|Comedy|Fantasy  \n",
            "1                   Adventure|Children|Fantasy  \n",
            "2                               Comedy|Romance  \n",
            "3                         Comedy|Drama|Romance  \n",
            "4                                       Comedy  \n",
            "-----\n",
            "RangeIndex(start=0, stop=62423, step=1)\n",
            "Index(['movieId', 'title', 'genres'], dtype='object')\n",
            "(62423, 3)\n"
          ]
        }
      ]
    }
  ]
}