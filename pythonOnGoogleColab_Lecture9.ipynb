{
  "nbformat": 4,
  "nbformat_minor": 0,
  "metadata": {
    "colab": {
      "provenance": [],
      "authorship_tag": "ABX9TyOjwFJZY8XmurYX8nUl+E19",
      "include_colab_link": true
    },
    "kernelspec": {
      "name": "python3",
      "display_name": "Python 3"
    },
    "language_info": {
      "name": "python"
    }
  },
  "cells": [
    {
      "cell_type": "markdown",
      "metadata": {
        "id": "view-in-github",
        "colab_type": "text"
      },
      "source": [
        "<a href=\"https://colab.research.google.com/github/Sinchiguano/ai_googleColab/blob/main/pythonOnGoogleColab_Lecture9.ipynb\" target=\"_parent\"><img src=\"https://colab.research.google.com/assets/colab-badge.svg\" alt=\"Open In Colab\"/></a>"
      ]
    },
    {
      "cell_type": "code",
      "execution_count": null,
      "metadata": {
        "colab": {
          "base_uri": "https://localhost:8080/"
        },
        "id": "D_vjRbKo-v7n",
        "outputId": "8c6c9ed6-49f0-4159-ae53-4f2666ca9514"
      },
      "outputs": [
        {
          "output_type": "stream",
          "name": "stdout",
          "text": [
            "cesar sinchiguano\n"
          ]
        }
      ],
      "source": [
        "import numpy as np\n",
        "print('cesar sinchiguano')\n",
        "#https://colab.research.google.com/github/cs231n/cs231n.github.io/blob/master/python-colab.ipynb#scrollTo=1L4Am0QATgOc"
      ]
    },
    {
      "cell_type": "code",
      "source": [
        "!python --version "
      ],
      "metadata": {
        "colab": {
          "base_uri": "https://localhost:8080/"
        },
        "id": "6XhDLHO1ha6b",
        "outputId": "6a03787f-879d-48e5-ec84-e8f722d21d73"
      },
      "execution_count": null,
      "outputs": [
        {
          "output_type": "stream",
          "name": "stdout",
          "text": [
            "Python 3.10.11\n"
          ]
        }
      ]
    },
    {
      "cell_type": "markdown",
      "source": [
        "TIPOS DE DATOS BÁSICOS\n",
        "Números. ENTEROS Y DECIMALES"
      ],
      "metadata": {
        "id": "-VGnK4dJhgPg"
      }
    },
    {
      "cell_type": "code",
      "source": [
        "ejemplo1=2\n",
        "print('-------')\n",
        "print(ejemplo1)\n",
        "print('Producto ejemplo1*ejemplo: \\n{:.3f} '.format(ejemplo1*ejemplo1))\n",
        "print(ejemplo1-ejemplo1)\n",
        "print(ejemplo1+ejemplo1)\n",
        "print(ejemplo1**ejemplo1)\n",
        "ejemplo1+=3\n",
        "print(ejemplo1)\n",
        "ejemplo1*=2\n",
        "print(ejemplo1)\n",
        "print(type(ejemplo1))\n",
        "ejemplo1*=10.5\n",
        "print(type(ejemplo1))\n",
        "print(type(ejemplo1),ejemplo1**ejemplo1,ejemplo1*3)"
      ],
      "metadata": {
        "colab": {
          "base_uri": "https://localhost:8080/"
        },
        "id": "mdNtEJGsiPVR",
        "outputId": "5fccaee6-55bf-46da-bcc5-ba8071f13b71"
      },
      "execution_count": null,
      "outputs": [
        {
          "output_type": "stream",
          "name": "stdout",
          "text": [
            "-------\n",
            "2\n",
            "Producto ejemplo1*ejemplo: \n",
            "4.000 \n",
            "0\n",
            "4\n",
            "4\n",
            "5\n",
            "10\n",
            "<class 'int'>\n",
            "<class 'float'>\n",
            "<class 'float'> 1.6783263083479556e+212 315.0\n"
          ]
        }
      ]
    },
    {
      "cell_type": "markdown",
      "source": [
        "Booleans"
      ],
      "metadata": {
        "id": "vgD1g0Ijk-h5"
      }
    },
    {
      "cell_type": "code",
      "source": [
        "mask1=True\n",
        "mask2=False\n",
        "resultAnd=mask1 and mask2\n",
        "print(resultAnd)\n",
        "print(mask1 or mask2)\n",
        "print(not mask1)\n",
        "print(not mask2)"
      ],
      "metadata": {
        "colab": {
          "base_uri": "https://localhost:8080/"
        },
        "id": "TtcG5h90lC5X",
        "outputId": "294bc931-9a2b-4d0a-9730-d94889152bb6"
      },
      "execution_count": null,
      "outputs": [
        {
          "output_type": "stream",
          "name": "stdout",
          "text": [
            "False\n",
            "True\n",
            "False\n",
            "True\n"
          ]
        }
      ]
    },
    {
      "cell_type": "markdown",
      "source": [
        "String"
      ],
      "metadata": {
        "id": "2dX-zaTamkkb"
      }
    },
    {
      "cell_type": "code",
      "source": [
        "lastName='sinchiguano'\n",
        "print(lastName.capitalize())\n",
        "print(lastName.upper())\n",
        "print(lastName.lower())\n",
        "print(len(lastName))\n",
        "message='Hello,'\n",
        "print(message+' '+lastName)"
      ],
      "metadata": {
        "colab": {
          "base_uri": "https://localhost:8080/"
        },
        "id": "uiVObT9-modO",
        "outputId": "c9aa3bb3-0778-401a-c4be-134321d4e77f"
      },
      "execution_count": null,
      "outputs": [
        {
          "output_type": "stream",
          "name": "stdout",
          "text": [
            "Sinchiguano\n",
            "SINCHIGUANO\n",
            "sinchiguano\n",
            "11\n",
            "Hello, sinchiguano\n"
          ]
        }
      ]
    },
    {
      "cell_type": "markdown",
      "source": [
        "Containers"
      ],
      "metadata": {
        "id": "WF-q6uNgoy5_"
      }
    },
    {
      "cell_type": "code",
      "source": [
        "listNumbers=[1,2,3,4,5,6]\n",
        "import numpy as np\n",
        "listLastNameIndex=np.arange(len(lastName))\n",
        "print(listLastNameIndex)\n",
        "print(type(listLastNameIndex))\n",
        "listLastNameIndex=np.arange(10)\n",
        "print(listLastNameIndex)\n",
        "print(type(listLastNameIndex))\n",
        "someList=['cesar',13,True]\n",
        "print(someList)\n",
        "print(someList[0])\n",
        "someList[1]=45\n",
        "print(someList)\n",
        "someList.append('one')\n",
        "someList.append(1)\n",
        "print(someList)\n",
        "test=someList.pop()\n",
        "print(test)\n",
        "print(someList.index('one'))\n",
        "print(someList[3])\n",
        "import random\n",
        "# Generate a random list of floating-point numbers\n",
        "random_list = [random.randint(0, 100) for _ in range(10)]\n",
        "print(random_list)\n",
        "print(type(random_list))\n",
        "random_list.sort()\n",
        "print(random_list)"
      ],
      "metadata": {
        "colab": {
          "base_uri": "https://localhost:8080/"
        },
        "id": "z24orhC_o09X",
        "outputId": "68336b57-a060-493e-ea1c-7c4a2654c082"
      },
      "execution_count": null,
      "outputs": [
        {
          "output_type": "stream",
          "name": "stdout",
          "text": [
            "[ 0  1  2  3  4  5  6  7  8  9 10]\n",
            "<class 'numpy.ndarray'>\n",
            "[0 1 2 3 4 5 6 7 8 9]\n",
            "<class 'numpy.ndarray'>\n",
            "['cesar', 13, True]\n",
            "cesar\n",
            "['cesar', 45, True]\n",
            "['cesar', 45, True, 'one', 1]\n",
            "1\n",
            "3\n",
            "one\n",
            "[43, 15, 70, 40, 50, 58, 62, 28, 30, 59]\n",
            "<class 'list'>\n",
            "[15, 28, 30, 40, 43, 50, 58, 59, 62, 70]\n"
          ]
        }
      ]
    },
    {
      "cell_type": "markdown",
      "source": [
        "Loops: You can loop over the elements of a list like this "
      ],
      "metadata": {
        "id": "0k_tTdyt4raC"
      }
    },
    {
      "cell_type": "code",
      "source": [
        "animals=['cat','dog','monkey']\n",
        "print(animals[1:3])\n",
        "numbers=list(range(20))\n",
        "print(numbers)\n",
        "print(numbers[8:15])\n",
        "print(numbers[:8])\n",
        "numbers[1:3]=[8,9]\n",
        "print(numbers)\n",
        "print(numbers[:-1])\n",
        "\n",
        "for animal in animals:\n",
        "  print('Animal: {}'.format(animal.upper()))\n",
        "indices=[i for i in range(len(animals))]\n",
        "print(indices)\n",
        "\n",
        "indexNumbers=list()\n",
        "for i in range(len(numbers)):\n",
        "  indexNumbers.append(i)\n",
        "print(indexNumbers)\n",
        "\n",
        "\n",
        "for index, animal in enumerate(animals):\n",
        "  print('%d  %s'%(index,animal))"
      ],
      "metadata": {
        "colab": {
          "base_uri": "https://localhost:8080/"
        },
        "id": "FjDcO1ep1mx4",
        "outputId": "67cda304-7420-4266-b881-37ef31da440e"
      },
      "execution_count": null,
      "outputs": [
        {
          "output_type": "stream",
          "name": "stdout",
          "text": [
            "['dog', 'monkey']\n",
            "[0, 1, 2, 3, 4, 5, 6, 7, 8, 9, 10, 11, 12, 13, 14, 15, 16, 17, 18, 19]\n",
            "[8, 9, 10, 11, 12, 13, 14]\n",
            "[0, 1, 2, 3, 4, 5, 6, 7]\n",
            "[0, 8, 9, 3, 4, 5, 6, 7, 8, 9, 10, 11, 12, 13, 14, 15, 16, 17, 18, 19]\n",
            "[0, 8, 9, 3, 4, 5, 6, 7, 8, 9, 10, 11, 12, 13, 14, 15, 16, 17, 18]\n",
            "Animal: CAT\n",
            "Animal: DOG\n",
            "Animal: MONKEY\n",
            "[0, 1, 2]\n",
            "[0, 1, 2, 3, 4, 5, 6, 7, 8, 9, 10, 11, 12, 13, 14, 15, 16, 17, 18, 19]\n",
            "0  cat\n",
            "1  dog\n",
            "2  monkey\n"
          ]
        }
      ]
    },
    {
      "cell_type": "code",
      "source": [
        "sample=list(range(6))\n",
        "print(sample)\n",
        "squareNumber=list()\n",
        "for i in sample:\n",
        "  squareNumber.append(i**2)\n",
        "print(squareNumber)"
      ],
      "metadata": {
        "colab": {
          "base_uri": "https://localhost:8080/"
        },
        "id": "HUWZcxiw5B8H",
        "outputId": "c22abb6e-172a-4163-ac20-1a785ebf691f"
      },
      "execution_count": null,
      "outputs": [
        {
          "output_type": "stream",
          "name": "stdout",
          "text": [
            "[0, 1, 2, 3, 4, 5]\n",
            "[0, 1, 4, 9, 16, 25]\n"
          ]
        }
      ]
    },
    {
      "cell_type": "markdown",
      "source": [
        "DICTIONARIES"
      ],
      "metadata": {
        "id": "11MhjM9DBxHt"
      }
    },
    {
      "cell_type": "code",
      "source": [
        "d={'cat':'cute','dog':'clever'}\n",
        "print(d['cat'])\n",
        "print('cat' in d)\n",
        "d['fish']='wet'\n",
        "my_dict = {\"name\": \"John\", \"age\": 30, \"city\": \"New York\"}\n",
        "for key in my_dict:\n",
        "  print('Key: {} - Value: {}'.format(key,my_dict[key]))\n",
        "print('----------------')\n",
        "for key, value in d.items():\n",
        "  print('Key: {} - Value: {}'.format(key,value))\n"
      ],
      "metadata": {
        "colab": {
          "base_uri": "https://localhost:8080/"
        },
        "id": "HCqx4V9YBzVE",
        "outputId": "9bb0af59-33f5-4ca5-b292-5ebbf56457b8"
      },
      "execution_count": null,
      "outputs": [
        {
          "output_type": "stream",
          "name": "stdout",
          "text": [
            "cute\n",
            "True\n",
            "Key: name - Value: John\n",
            "Key: age - Value: 30\n",
            "Key: city - Value: New York\n",
            "----------------\n",
            "Key: cat - Value: cute\n",
            "Key: dog - Value: clever\n",
            "Key: fish - Value: wet\n"
          ]
        }
      ]
    },
    {
      "cell_type": "markdown",
      "source": [
        "Functions"
      ],
      "metadata": {
        "id": "loFYhQuwJxe5"
      }
    },
    {
      "cell_type": "code",
      "source": [
        "myList=list()\n",
        "myList.append(-1)\n",
        "myList.append(0)\n",
        "myList.append(1)\n",
        "print(myList)\n",
        "\n",
        "def checkSign(number):\n",
        "  if (number<0):\n",
        "    print('The number is negative: {}'.format(number))\n",
        "  elif (number>0):\n",
        "    print('The number is positive: {}'.format(number))\n",
        "  else:\n",
        "    print('The number is cero: {}'.format(number))\n",
        "\n",
        "\n",
        "# checkSign(myList[2])\n",
        "\n",
        "for index, item in enumerate(myList):\n",
        "  print(checkSign(item))\n"
      ],
      "metadata": {
        "colab": {
          "base_uri": "https://localhost:8080/"
        },
        "id": "4PJqDzG_-35Q",
        "outputId": "78bb832b-6406-419e-fdad-defed8217f5e"
      },
      "execution_count": null,
      "outputs": [
        {
          "output_type": "stream",
          "name": "stdout",
          "text": [
            "[-1, 0, 1]\n",
            "The number is negative: -1\n",
            "None\n",
            "The number is cero: 0\n",
            "None\n",
            "The number is positive: 1\n",
            "None\n"
          ]
        }
      ]
    },
    {
      "cell_type": "code",
      "source": [
        "def changeToUpperCase(name, flag=True):\n",
        "  if flag:\n",
        "    print(name.upper())\n",
        "  elif flag==False:\n",
        "    print(name.lower())\n",
        "\n",
        "nameList=['juan','carlos','veronica','roberto']\n",
        "\n",
        "# changeToUpperCase(nameList[0],False)\n",
        "# changeToUpperCase(nameList[0],True)\n",
        "\n",
        "print('-----------------')\n",
        "\n",
        "import random \n",
        "\n",
        "print(random.choice([False, True]))\n",
        "\n",
        "for name in nameList:\n",
        "  controlFlag=random.choice([True,False])\n",
        "  changeToUpperCase(name,controlFlag)\n",
        "\n"
      ],
      "metadata": {
        "colab": {
          "base_uri": "https://localhost:8080/"
        },
        "id": "ib2yBdv8MTjk",
        "outputId": "73ffb614-5b75-4d68-9cfb-ed5884478638"
      },
      "execution_count": null,
      "outputs": [
        {
          "output_type": "stream",
          "name": "stdout",
          "text": [
            "-----------------\n",
            "False\n",
            "juan\n",
            "carlos\n",
            "veronica\n",
            "ROBERTO\n"
          ]
        }
      ]
    },
    {
      "cell_type": "markdown",
      "source": [
        "Class\n",
        "\n",
        "The syntax for defining classes in Python is straightforward.\n",
        "\n",
        "Attributes (variables)\n",
        "Methods (functions)\n",
        "\n",
        "All classes have a function called __init__(), which is always executed when the class is being initiated."
      ],
      "metadata": {
        "id": "DqjSXPsPICuf"
      }
    },
    {
      "cell_type": "code",
      "source": [
        "class Person():\n",
        "  def __init__(self, name, age):\n",
        "    self.name=name\n",
        "    self.age=age\n",
        "  \n",
        "p1=Person('juan',12)\n",
        "p2=Person('Lucas',13)\n",
        "\n",
        "p4=Person('Pepe',18)\n",
        "p3=Person('Liam',15)\n",
        "\n",
        "print(p1.name, ' - ',p1.age)\n",
        "print(p4.name, ' - ',p4.age)\n",
        "\n"
      ],
      "metadata": {
        "colab": {
          "base_uri": "https://localhost:8080/"
        },
        "id": "8PzC1wKqTh7d",
        "outputId": "22848b88-8914-4029-aa18-edf915459942"
      },
      "execution_count": 36,
      "outputs": [
        {
          "output_type": "stream",
          "name": "stdout",
          "text": [
            "juan  -  12\n",
            "Pepe  -  18\n"
          ]
        }
      ]
    },
    {
      "cell_type": "code",
      "source": [
        "class myClass:\n",
        "  def __init__(self, name):\n",
        "    self.name=name\n",
        "  \n",
        "\n",
        "  def message(self):\n",
        "    print('Hello, {}'.format(self.name))\n",
        "\n",
        "  def upperCase(self, flag=False):\n",
        "    if flag:\n",
        "      print('Hello, {}'.format(self.name.upper()))\n",
        "    else:\n",
        "      print('Hello, {}'.format(self.name))\n",
        "\n",
        "\n",
        "ob1=myClass('Peter')\n",
        "ob2=myClass('Juan')\n",
        "\n",
        "print('-------')\n",
        "\n",
        "ob1.upperCase(True)\n",
        "ob2.upperCase(False)\n"
      ],
      "metadata": {
        "colab": {
          "base_uri": "https://localhost:8080/"
        },
        "id": "v8bgQZUyIZQk",
        "outputId": "9e4a0280-3cd9-44ff-abd2-d2f52b4a28a1"
      },
      "execution_count": null,
      "outputs": [
        {
          "output_type": "stream",
          "name": "stdout",
          "text": [
            "-------\n",
            "Hello, PETER\n",
            "Hello, Juan\n"
          ]
        }
      ]
    },
    {
      "cell_type": "markdown",
      "source": [
        "CLASSES"
      ],
      "metadata": {
        "id": "vaz8MiiQOJYu"
      }
    },
    {
      "cell_type": "code",
      "source": [
        "class greetings():\n",
        "  def __init__(self, name):\n",
        "    self.name=name\n",
        " \n",
        "  def hello(self,flag):\n",
        "    if flag:\n",
        "      print('HELLO, '+self.name.upper())\n",
        "    elif not flag:\n",
        "      print('Hello, '+self.name)\n",
        "\n",
        "object1=greetings('Cesar')\n",
        "object2=greetings('Juan')\n",
        "object3=greetings('Carlos')\n",
        "\n",
        "object3.hello(False)\n",
        "object3.hello(True)"
      ],
      "metadata": {
        "colab": {
          "base_uri": "https://localhost:8080/"
        },
        "id": "ya9h2ze7OLin",
        "outputId": "e0431d92-511b-42c6-940d-6b5e658c8406"
      },
      "execution_count": null,
      "outputs": [
        {
          "output_type": "stream",
          "name": "stdout",
          "text": [
            "Hello, Carlos\n",
            "HELLO, CARLOS\n"
          ]
        }
      ]
    },
    {
      "cell_type": "markdown",
      "source": [
        "Numpy"
      ],
      "metadata": {
        "id": "XAIxjGRKYAX-"
      }
    },
    {
      "cell_type": "code",
      "source": [
        "import numpy as np\n",
        "\n",
        "\n"
      ],
      "metadata": {
        "colab": {
          "base_uri": "https://localhost:8080/"
        },
        "id": "L7fJxuFXYB-l",
        "outputId": "ecc5300c-f222-46d1-a5c0-6a28297cb1ce"
      },
      "execution_count": 37,
      "outputs": [
        {
          "output_type": "stream",
          "name": "stdout",
          "text": [
            "['ALLOW_THREADS', 'AxisError', 'BUFSIZE', 'CLIP', 'ComplexWarning', 'DataSource', 'ERR_CALL', 'ERR_DEFAULT', 'ERR_IGNORE', 'ERR_LOG', 'ERR_PRINT', 'ERR_RAISE', 'ERR_WARN', 'FLOATING_POINT_SUPPORT', 'FPE_DIVIDEBYZERO', 'FPE_INVALID', 'FPE_OVERFLOW', 'FPE_UNDERFLOW', 'False_', 'Inf', 'Infinity', 'MAXDIMS', 'MAY_SHARE_BOUNDS', 'MAY_SHARE_EXACT', 'ModuleDeprecationWarning', 'NAN', 'NINF', 'NZERO', 'NaN', 'PINF', 'PZERO', 'RAISE', 'RankWarning', 'SHIFT_DIVIDEBYZERO', 'SHIFT_INVALID', 'SHIFT_OVERFLOW', 'SHIFT_UNDERFLOW', 'ScalarType', 'Tester', 'TooHardError', 'True_', 'UFUNC_BUFSIZE_DEFAULT', 'UFUNC_PYVALS_NAME', 'VisibleDeprecationWarning', 'WRAP', '_CopyMode', '_NoValue', '_UFUNC_API', '__NUMPY_SETUP__', '__all__', '__builtins__', '__cached__', '__config__', '__deprecated_attrs__', '__dir__', '__doc__', '__expired_functions__', '__file__', '__getattr__', '__git_version__', '__loader__', '__name__', '__package__', '__path__', '__spec__', '__version__', '_add_newdoc_ufunc', '_distributor_init', '_financial_names', '_from_dlpack', '_globals', '_mat', '_pytesttester', '_version', 'abs', 'absolute', 'add', 'add_docstring', 'add_newdoc', 'add_newdoc_ufunc', 'alen', 'all', 'allclose', 'alltrue', 'amax', 'amin', 'angle', 'any', 'append', 'apply_along_axis', 'apply_over_axes', 'arange', 'arccos', 'arccosh', 'arcsin', 'arcsinh', 'arctan', 'arctan2', 'arctanh', 'argmax', 'argmin', 'argpartition', 'argsort', 'argwhere', 'around', 'array', 'array2string', 'array_equal', 'array_equiv', 'array_repr', 'array_split', 'array_str', 'asanyarray', 'asarray', 'asarray_chkfinite', 'ascontiguousarray', 'asfarray', 'asfortranarray', 'asmatrix', 'asscalar', 'atleast_1d', 'atleast_2d', 'atleast_3d', 'average', 'bartlett', 'base_repr', 'binary_repr', 'bincount', 'bitwise_and', 'bitwise_not', 'bitwise_or', 'bitwise_xor', 'blackman', 'block', 'bmat', 'bool8', 'bool_', 'broadcast', 'broadcast_arrays', 'broadcast_shapes', 'broadcast_to', 'busday_count', 'busday_offset', 'busdaycalendar', 'byte', 'byte_bounds', 'bytes0', 'bytes_', 'c_', 'can_cast', 'cast', 'cbrt', 'cdouble', 'ceil', 'cfloat', 'char', 'character', 'chararray', 'choose', 'clip', 'clongdouble', 'clongfloat', 'column_stack', 'common_type', 'compare_chararrays', 'compat', 'complex128', 'complex256', 'complex64', 'complex_', 'complexfloating', 'compress', 'concatenate', 'conj', 'conjugate', 'convolve', 'copy', 'copysign', 'copyto', 'core', 'corrcoef', 'correlate', 'cos', 'cosh', 'count_nonzero', 'cov', 'cross', 'csingle', 'ctypeslib', 'cumprod', 'cumproduct', 'cumsum', 'datetime64', 'datetime_as_string', 'datetime_data', 'deg2rad', 'degrees', 'delete', 'deprecate', 'deprecate_with_doc', 'diag', 'diag_indices', 'diag_indices_from', 'diagflat', 'diagonal', 'diff', 'digitize', 'disp', 'divide', 'divmod', 'dot', 'double', 'dsplit', 'dstack', 'dtype', 'e', 'ediff1d', 'einsum', 'einsum_path', 'emath', 'empty', 'empty_like', 'equal', 'errstate', 'euler_gamma', 'exp', 'exp2', 'expand_dims', 'expm1', 'expm1x', 'extract', 'eye', 'fabs', 'fastCopyAndTranspose', 'fft', 'fill_diagonal', 'find_common_type', 'finfo', 'fix', 'flatiter', 'flatnonzero', 'flexible', 'flip', 'fliplr', 'flipud', 'float128', 'float16', 'float32', 'float64', 'float_', 'float_power', 'floating', 'floor', 'floor_divide', 'fmax', 'fmin', 'fmod', 'format_float_positional', 'format_float_scientific', 'format_parser', 'frexp', 'frombuffer', 'fromfile', 'fromfunction', 'fromiter', 'frompyfunc', 'fromregex', 'fromstring', 'full', 'full_like', 'gcd', 'generic', 'genfromtxt', 'geomspace', 'get_array_wrap', 'get_include', 'get_printoptions', 'getbufsize', 'geterr', 'geterrcall', 'geterrobj', 'gradient', 'greater', 'greater_equal', 'half', 'hamming', 'hanning', 'heaviside', 'histogram', 'histogram2d', 'histogram_bin_edges', 'histogramdd', 'hsplit', 'hstack', 'hypot', 'i0', 'identity', 'iinfo', 'imag', 'in1d', 'index_exp', 'indices', 'inexact', 'inf', 'info', 'infty', 'inner', 'insert', 'int0', 'int16', 'int32', 'int64', 'int8', 'int_', 'intc', 'integer', 'interp', 'intersect1d', 'intp', 'invert', 'is_busday', 'isclose', 'iscomplex', 'iscomplexobj', 'isfinite', 'isfortran', 'isin', 'isinf', 'isnan', 'isnat', 'isneginf', 'isposinf', 'isreal', 'isrealobj', 'isscalar', 'issctype', 'issubclass_', 'issubdtype', 'issubsctype', 'iterable', 'ix_', 'kaiser', 'kernel_version', 'kron', 'lcm', 'ldexp', 'left_shift', 'less', 'less_equal', 'lexsort', 'lib', 'linalg', 'linspace', 'little_endian', 'load', 'loadtxt', 'log', 'log10', 'log1p', 'log2', 'logaddexp', 'logaddexp2', 'logical_and', 'logical_not', 'logical_or', 'logical_xor', 'logspace', 'longcomplex', 'longdouble', 'longfloat', 'longlong', 'lookfor', 'ma', 'mask_indices', 'mat', 'math', 'matmul', 'matrix', 'matrixlib', 'max', 'maximum', 'maximum_sctype', 'may_share_memory', 'mean', 'median', 'memmap', 'meshgrid', 'mgrid', 'min', 'min_scalar_type', 'minimum', 'mintypecode', 'mod', 'modf', 'moveaxis', 'msort', 'multiply', 'nan', 'nan_to_num', 'nanargmax', 'nanargmin', 'nancumprod', 'nancumsum', 'nanmax', 'nanmean', 'nanmedian', 'nanmin', 'nanpercentile', 'nanprod', 'nanquantile', 'nanstd', 'nansum', 'nanvar', 'nbytes', 'ndarray', 'ndenumerate', 'ndim', 'ndindex', 'nditer', 'negative', 'nested_iters', 'newaxis', 'nextafter', 'nonzero', 'not_equal', 'numarray', 'number', 'obj2sctype', 'object0', 'object_', 'ogrid', 'oldnumeric', 'ones', 'ones_like', 'os', 'outer', 'packbits', 'pad', 'partition', 'percentile', 'pi', 'piecewise', 'place', 'poly', 'poly1d', 'polyadd', 'polyder', 'polydiv', 'polyfit', 'polyint', 'polymul', 'polynomial', 'polysub', 'polyval', 'positive', 'power', 'printoptions', 'prod', 'product', 'promote_types', 'ptp', 'put', 'put_along_axis', 'putmask', 'quantile', 'r_', 'rad2deg', 'radians', 'random', 'ravel', 'ravel_multi_index', 'real', 'real_if_close', 'rec', 'recarray', 'recfromcsv', 'recfromtxt', 'reciprocal', 'record', 'remainder', 'repeat', 'require', 'reshape', 'resize', 'result_type', 'right_shift', 'rint', 'roll', 'rollaxis', 'roots', 'rot90', 'round', 'round_', 'row_stack', 's_', 'safe_eval', 'save', 'savetxt', 'savez', 'savez_compressed', 'sctype2char', 'sctypeDict', 'sctypes', 'searchsorted', 'select', 'set_numeric_ops', 'set_printoptions', 'set_string_function', 'setbufsize', 'setdiff1d', 'seterr', 'seterrcall', 'seterrobj', 'setxor1d', 'shape', 'shares_memory', 'short', 'show_config', 'sign', 'signbit', 'signedinteger', 'sin', 'sinc', 'single', 'singlecomplex', 'sinh', 'size', 'sometrue', 'sort', 'sort_complex', 'source', 'spacing', 'split', 'sqrt', 'square', 'squeeze', 'stack', 'std', 'str0', 'str_', 'string_', 'subtract', 'sum', 'swapaxes', 'sys', 'take', 'take_along_axis', 'tan', 'tanh', 'tensordot', 'test', 'testing', 'tile', 'timedelta64', 'trace', 'tracemalloc_domain', 'transpose', 'trapz', 'tri', 'tril', 'tril_indices', 'tril_indices_from', 'trim_zeros', 'triu', 'triu_indices', 'triu_indices_from', 'true_divide', 'trunc', 'typecodes', 'typename', 'ubyte', 'ufunc', 'uint', 'uint0', 'uint16', 'uint32', 'uint64', 'uint8', 'uintc', 'uintp', 'ulonglong', 'unicode_', 'union1d', 'unique', 'unpackbits', 'unravel_index', 'unsignedinteger', 'unwrap', 'use_hugepage', 'ushort', 'vander', 'var', 'vdot', 'vectorize', 'version', 'void', 'void0', 'vsplit', 'vstack', 'warnings', 'where', 'who', 'zeros', 'zeros_like']\n"
          ]
        }
      ]
    }
  ]
}