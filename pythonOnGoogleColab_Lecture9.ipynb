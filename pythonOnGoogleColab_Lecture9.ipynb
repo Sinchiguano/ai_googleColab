{
  "nbformat": 4,
  "nbformat_minor": 0,
  "metadata": {
    "colab": {
      "provenance": [],
      "authorship_tag": "ABX9TyMwjtDUihv0lfSoVbBUODs1",
      "include_colab_link": true
    },
    "kernelspec": {
      "name": "python3",
      "display_name": "Python 3"
    },
    "language_info": {
      "name": "python"
    }
  },
  "cells": [
    {
      "cell_type": "markdown",
      "metadata": {
        "id": "view-in-github",
        "colab_type": "text"
      },
      "source": [
        "<a href=\"https://colab.research.google.com/github/Sinchiguano/ai_googleColab/blob/main/pythonOnGoogleColab_Lecture9.ipynb\" target=\"_parent\"><img src=\"https://colab.research.google.com/assets/colab-badge.svg\" alt=\"Open In Colab\"/></a>"
      ]
    },
    {
      "cell_type": "code",
      "execution_count": null,
      "metadata": {
        "colab": {
          "base_uri": "https://localhost:8080/"
        },
        "id": "D_vjRbKo-v7n",
        "outputId": "71deb19d-66c6-4baf-b4dd-c5c83cba35e9"
      },
      "outputs": [
        {
          "output_type": "stream",
          "name": "stdout",
          "text": [
            "cesar sinchiguano\n"
          ]
        }
      ],
      "source": [
        "import numpy as np\n",
        "print('cesar sinchiguano')\n",
        "#https://colab.research.google.com/github/cs231n/cs231n.github.io/blob/master/python-colab.ipynb#scrollTo=1L4Am0QATgOc"
      ]
    },
    {
      "cell_type": "code",
      "source": [
        "!python --version "
      ],
      "metadata": {
        "colab": {
          "base_uri": "https://localhost:8080/"
        },
        "id": "6XhDLHO1ha6b",
        "outputId": "add61f99-fdcc-443d-8b91-035f4ad7859b"
      },
      "execution_count": null,
      "outputs": [
        {
          "output_type": "stream",
          "name": "stdout",
          "text": [
            "Python 3.10.11\n"
          ]
        }
      ]
    },
    {
      "cell_type": "markdown",
      "source": [
        "TIPOS DE DATOS BÁSICOS\n",
        "Números. ENTEROS Y DECIMALES"
      ],
      "metadata": {
        "id": "-VGnK4dJhgPg"
      }
    },
    {
      "cell_type": "code",
      "source": [
        "ejemplo1=2\n",
        "print('-------')\n",
        "print(ejemplo1)\n",
        "print('Producto ejemplo1*ejemplo: \\n{:.3f} '.format(ejemplo1*ejemplo1))\n",
        "print(ejemplo1-ejemplo1)\n",
        "print(ejemplo1+ejemplo1)\n",
        "print(ejemplo1**ejemplo1)\n",
        "ejemplo1+=3\n",
        "print(ejemplo1)\n",
        "ejemplo1*=2\n",
        "print(ejemplo1)\n",
        "print(type(ejemplo1))\n",
        "ejemplo1*=10.5\n",
        "print(type(ejemplo1))\n",
        "print(type(ejemplo1),ejemplo1**ejemplo1,ejemplo1*3)"
      ],
      "metadata": {
        "colab": {
          "base_uri": "https://localhost:8080/"
        },
        "id": "mdNtEJGsiPVR",
        "outputId": "7201a061-7fff-4ea3-b025-17b434460225"
      },
      "execution_count": null,
      "outputs": [
        {
          "output_type": "stream",
          "name": "stdout",
          "text": [
            "-------\n",
            "2\n",
            "Producto ejemplo1*ejemplo: \n",
            "4.000 \n",
            "0\n",
            "4\n",
            "4\n",
            "5\n",
            "10\n",
            "<class 'int'>\n",
            "<class 'float'>\n",
            "<class 'float'> 1.6783263083479556e+212 315.0\n"
          ]
        }
      ]
    },
    {
      "cell_type": "markdown",
      "source": [
        "Booleans"
      ],
      "metadata": {
        "id": "vgD1g0Ijk-h5"
      }
    },
    {
      "cell_type": "code",
      "source": [
        "mask1=True\n",
        "mask2=False\n",
        "resultAnd=mask1 and mask2\n",
        "print(resultAnd)\n",
        "print(mask1 or mask2)\n",
        "print(not mask1)\n",
        "print(not mask2)"
      ],
      "metadata": {
        "colab": {
          "base_uri": "https://localhost:8080/"
        },
        "id": "TtcG5h90lC5X",
        "outputId": "462bddc3-1e23-4470-bb49-c9190ce279af"
      },
      "execution_count": null,
      "outputs": [
        {
          "output_type": "stream",
          "name": "stdout",
          "text": [
            "False\n",
            "True\n",
            "False\n",
            "True\n"
          ]
        }
      ]
    },
    {
      "cell_type": "markdown",
      "source": [
        "String"
      ],
      "metadata": {
        "id": "2dX-zaTamkkb"
      }
    },
    {
      "cell_type": "code",
      "source": [
        "lastName='sinchiguano'\n",
        "print(lastName.capitalize())\n",
        "print(lastName.upper())\n",
        "print(lastName.lower())\n",
        "print(len(lastName))\n",
        "message='Hello,'\n",
        "print(message+' '+lastName)"
      ],
      "metadata": {
        "colab": {
          "base_uri": "https://localhost:8080/"
        },
        "id": "uiVObT9-modO",
        "outputId": "a459c001-0bfa-405e-9557-6abe37b30391"
      },
      "execution_count": null,
      "outputs": [
        {
          "output_type": "stream",
          "name": "stdout",
          "text": [
            "Sinchiguano\n",
            "SINCHIGUANO\n",
            "sinchiguano\n",
            "11\n",
            "Hello, sinchiguano\n"
          ]
        }
      ]
    },
    {
      "cell_type": "markdown",
      "source": [
        "Containers"
      ],
      "metadata": {
        "id": "WF-q6uNgoy5_"
      }
    },
    {
      "cell_type": "code",
      "source": [
        "listNumbers=[1,2,3,4,5,6]\n",
        "import numpy as np\n",
        "listLastNameIndex=np.arange(len(lastName))\n",
        "print(listLastNameIndex)\n",
        "print(type(listLastNameIndex))\n",
        "listLastNameIndex=np.arange(10)\n",
        "print(listLastNameIndex)\n",
        "print(type(listLastNameIndex))\n",
        "someList=['cesar',13,True]\n",
        "print(someList)\n",
        "print(someList[0])\n",
        "someList[1]=45\n",
        "print(someList)\n",
        "someList.append('one')\n",
        "someList.append(1)\n",
        "print(someList)\n",
        "test=someList.pop()\n",
        "print(test)\n",
        "print(someList.index('one'))\n",
        "print(someList[3])\n",
        "import random\n",
        "# Generate a random list of floating-point numbers\n",
        "random_list = [random.randint(0, 100) for _ in range(10)]\n",
        "print(random_list)\n",
        "print(type(random_list))\n",
        "random_list.sort()\n",
        "print(random_list)"
      ],
      "metadata": {
        "colab": {
          "base_uri": "https://localhost:8080/"
        },
        "id": "z24orhC_o09X",
        "outputId": "2ad7202a-ec82-4b52-83ad-68532fe14d67"
      },
      "execution_count": null,
      "outputs": [
        {
          "output_type": "stream",
          "name": "stdout",
          "text": [
            "[ 0  1  2  3  4  5  6  7  8  9 10]\n",
            "<class 'numpy.ndarray'>\n",
            "[0 1 2 3 4 5 6 7 8 9]\n",
            "<class 'numpy.ndarray'>\n",
            "['cesar', 13, True]\n",
            "cesar\n",
            "['cesar', 45, True]\n",
            "['cesar', 45, True, 'one', 1]\n",
            "1\n",
            "3\n",
            "one\n",
            "[35, 57, 56, 28, 79, 49, 54, 41, 87, 55]\n",
            "<class 'list'>\n",
            "[28, 35, 41, 49, 54, 55, 56, 57, 79, 87]\n"
          ]
        }
      ]
    },
    {
      "cell_type": "markdown",
      "source": [
        "Loops: You can loop over the elements of a list like this "
      ],
      "metadata": {
        "id": "0k_tTdyt4raC"
      }
    },
    {
      "cell_type": "code",
      "source": [
        "animals=['cat','dog','monkey']\n",
        "print(animals[1:3])\n",
        "numbers=list(range(20))\n",
        "print(numbers)\n",
        "print(numbers[8:15])\n",
        "print(numbers[:8])\n",
        "numbers[1:3]=[8,9]\n",
        "print(numbers)\n",
        "print(numbers[:-1])\n",
        "\n",
        "for animal in animals:\n",
        "  print('Animal: {}'.format(animal.upper()))\n",
        "indices=[i for i in range(len(animals))]\n",
        "print(indices)\n",
        "\n",
        "indexNumbers=list()\n",
        "for i in range(len(numbers)):\n",
        "  indexNumbers.append(i)\n",
        "print(indexNumbers)\n",
        "\n",
        "\n",
        "for index, animal in enumerate(animals):\n",
        "  print('%d  %s'%(index,animal))"
      ],
      "metadata": {
        "colab": {
          "base_uri": "https://localhost:8080/"
        },
        "id": "FjDcO1ep1mx4",
        "outputId": "8d74a25c-2b8c-46c2-998e-e5961ed0ab29"
      },
      "execution_count": null,
      "outputs": [
        {
          "output_type": "stream",
          "name": "stdout",
          "text": [
            "['dog', 'monkey']\n",
            "[0, 1, 2, 3, 4, 5, 6, 7, 8, 9, 10, 11, 12, 13, 14, 15, 16, 17, 18, 19]\n",
            "[8, 9, 10, 11, 12, 13, 14]\n",
            "[0, 1, 2, 3, 4, 5, 6, 7]\n",
            "[0, 8, 9, 3, 4, 5, 6, 7, 8, 9, 10, 11, 12, 13, 14, 15, 16, 17, 18, 19]\n",
            "[0, 8, 9, 3, 4, 5, 6, 7, 8, 9, 10, 11, 12, 13, 14, 15, 16, 17, 18]\n",
            "Animal: CAT\n",
            "Animal: DOG\n",
            "Animal: MONKEY\n",
            "[0, 1, 2]\n",
            "[0, 1, 2, 3, 4, 5, 6, 7, 8, 9, 10, 11, 12, 13, 14, 15, 16, 17, 18, 19]\n",
            "0  cat\n",
            "1  dog\n",
            "2  monkey\n"
          ]
        }
      ]
    },
    {
      "cell_type": "code",
      "source": [
        "sample=list(range(6))\n",
        "print(sample)\n",
        "squareNumber=list()\n",
        "for i in sample:\n",
        "  squareNumber.append(i**2)\n",
        "print(squareNumber)"
      ],
      "metadata": {
        "colab": {
          "base_uri": "https://localhost:8080/"
        },
        "id": "HUWZcxiw5B8H",
        "outputId": "9aa15dc8-90ea-4cd7-f44b-65c6bc774bbb"
      },
      "execution_count": null,
      "outputs": [
        {
          "output_type": "stream",
          "name": "stdout",
          "text": [
            "[0, 1, 2, 3, 4, 5]\n",
            "[0, 1, 4, 9, 16, 25]\n"
          ]
        }
      ]
    },
    {
      "cell_type": "markdown",
      "source": [
        "DICTIONARIES"
      ],
      "metadata": {
        "id": "11MhjM9DBxHt"
      }
    },
    {
      "cell_type": "code",
      "source": [
        "d={'cat':'cute','dog':'clever'}\n",
        "print(d['cat'])\n",
        "print('cat' in d)\n",
        "d['fish']='wet'\n",
        "my_dict = {\"name\": \"John\", \"age\": 30, \"city\": \"New York\"}\n",
        "for key in my_dict:\n",
        "  print('Key: {} - Value: {}'.format(key,my_dict[key]))\n",
        "print('----------------')\n",
        "for key, value in d.items():\n",
        "  print('Key: {} - Value: {}'.format(key,value))\n"
      ],
      "metadata": {
        "colab": {
          "base_uri": "https://localhost:8080/"
        },
        "id": "HCqx4V9YBzVE",
        "outputId": "5e1512b2-b977-4c42-b7e7-1d9e11b3eb8f"
      },
      "execution_count": null,
      "outputs": [
        {
          "output_type": "stream",
          "name": "stdout",
          "text": [
            "cute\n",
            "True\n",
            "Key: name - Value: John\n",
            "Key: age - Value: 30\n",
            "Key: city - Value: New York\n",
            "----------------\n",
            "Key: cat - Value: cute\n",
            "Key: dog - Value: clever\n",
            "Key: fish - Value: wet\n"
          ]
        }
      ]
    },
    {
      "cell_type": "markdown",
      "source": [
        "Functions"
      ],
      "metadata": {
        "id": "loFYhQuwJxe5"
      }
    },
    {
      "cell_type": "code",
      "source": [
        "myList=list()\n",
        "myList.append(-1)\n",
        "myList.append(0)\n",
        "myList.append(1)\n",
        "print(myList)\n",
        "\n",
        "def checkSign(number):\n",
        "  if (number<0):\n",
        "    print('The number is negative: {}'.format(number))\n",
        "  elif (number>0):\n",
        "    print('The number is positive: {}'.format(number))\n",
        "  else:\n",
        "    print('The number is cero: {}'.format(number))\n",
        "\n",
        "\n",
        "# checkSign(myList[2])\n",
        "\n",
        "for index, item in enumerate(myList):\n",
        "  print(checkSign(item))\n"
      ],
      "metadata": {
        "colab": {
          "base_uri": "https://localhost:8080/"
        },
        "id": "4PJqDzG_-35Q",
        "outputId": "63d86e9b-b65d-488c-cf76-956e01a754a0"
      },
      "execution_count": null,
      "outputs": [
        {
          "output_type": "stream",
          "name": "stdout",
          "text": [
            "[-1, 0, 1]\n",
            "The number is negative: -1\n",
            "None\n",
            "The number is cero: 0\n",
            "None\n",
            "The number is positive: 1\n",
            "None\n"
          ]
        }
      ]
    },
    {
      "cell_type": "code",
      "source": [
        "def changeToUpperCase(name, flag=True):\n",
        "  if flag:\n",
        "    print(name.upper())\n",
        "  elif flag==False:\n",
        "    print(name.lower())\n",
        "\n",
        "nameList=['juan','carlos','veronica','roberto']\n",
        "\n",
        "# changeToUpperCase(nameList[0],False)\n",
        "# changeToUpperCase(nameList[0],True)\n",
        "\n",
        "print('-----------------')\n",
        "\n",
        "import random \n",
        "\n",
        "print(random.choice([False, True]))\n",
        "\n",
        "for name in nameList:\n",
        "  controlFlag=random.choice([True,False])\n",
        "  changeToUpperCase(name,controlFlag)\n",
        "\n"
      ],
      "metadata": {
        "colab": {
          "base_uri": "https://localhost:8080/"
        },
        "id": "ib2yBdv8MTjk",
        "outputId": "4f2fee56-773a-4c53-d3da-5b41c4c15521"
      },
      "execution_count": null,
      "outputs": [
        {
          "output_type": "stream",
          "name": "stdout",
          "text": [
            "-----------------\n",
            "False\n",
            "JUAN\n",
            "carlos\n",
            "veronica\n",
            "roberto\n"
          ]
        }
      ]
    },
    {
      "cell_type": "markdown",
      "source": [
        "Class\n",
        "\n",
        "The syntax for defining classes in Python is straightforward.\n",
        "\n",
        "Attributes (variables)\n",
        "Methods (functions)\n",
        "\n",
        "All classes have a function called __init__(), which is always executed when the class is being initiated."
      ],
      "metadata": {
        "id": "DqjSXPsPICuf"
      }
    },
    {
      "cell_type": "code",
      "source": [
        "class Person():\n",
        "  def __init__(self, name, age):\n",
        "    self.name=name\n",
        "    self.age=age\n",
        "  \n",
        "p1=Person('juan',12)\n",
        "p2=Person('Lucas',13)\n",
        "\n",
        "p4=Person('Pepe',18)\n",
        "p3=Person('Liam',15)\n",
        "\n",
        "print(p1.name, ' - ',p1.age)\n",
        "print(p4.name, ' - ',p4.age)\n",
        "\n"
      ],
      "metadata": {
        "colab": {
          "base_uri": "https://localhost:8080/"
        },
        "id": "8PzC1wKqTh7d",
        "outputId": "f19559b2-f10b-433a-8e05-041463614cef"
      },
      "execution_count": null,
      "outputs": [
        {
          "output_type": "stream",
          "name": "stdout",
          "text": [
            "juan  -  12\n",
            "Pepe  -  18\n"
          ]
        }
      ]
    },
    {
      "cell_type": "code",
      "source": [
        "class myClass:\n",
        "  def __init__(self, name):\n",
        "    self.name=name\n",
        "  \n",
        "\n",
        "  def message(self):\n",
        "    print('Hello, {}'.format(self.name))\n",
        "\n",
        "  def upperCase(self, flag=False):\n",
        "    if flag:\n",
        "      print('Hello, {}'.format(self.name.upper()))\n",
        "    else:\n",
        "      print('Hello, {}'.format(self.name))\n",
        "\n",
        "\n",
        "ob1=myClass('Peter')\n",
        "ob2=myClass('Juan')\n",
        "\n",
        "print('-------')\n",
        "\n",
        "ob1.upperCase(True)\n",
        "ob2.upperCase(False)\n"
      ],
      "metadata": {
        "colab": {
          "base_uri": "https://localhost:8080/"
        },
        "id": "v8bgQZUyIZQk",
        "outputId": "7c2ebe95-47e4-4008-c853-ba3eb688ed96"
      },
      "execution_count": null,
      "outputs": [
        {
          "output_type": "stream",
          "name": "stdout",
          "text": [
            "-------\n",
            "Hello, PETER\n",
            "Hello, Juan\n"
          ]
        }
      ]
    },
    {
      "cell_type": "markdown",
      "source": [
        "CLASSES"
      ],
      "metadata": {
        "id": "vaz8MiiQOJYu"
      }
    },
    {
      "cell_type": "code",
      "source": [
        "class greetings():\n",
        "  def __init__(self, name):\n",
        "    self.name=name\n",
        " \n",
        "  def hello(self,flag):\n",
        "    if flag:\n",
        "      print('HELLO, '+self.name.upper())\n",
        "    elif not flag:\n",
        "      print('Hello, '+self.name)\n",
        "\n",
        "object1=greetings('Cesar')\n",
        "object2=greetings('Juan')\n",
        "object3=greetings('Carlos')\n",
        "\n",
        "object3.hello(False)\n",
        "object3.hello(True)"
      ],
      "metadata": {
        "colab": {
          "base_uri": "https://localhost:8080/"
        },
        "id": "ya9h2ze7OLin",
        "outputId": "1be22f9a-72ba-49be-b575-9ac0bfc47fc6"
      },
      "execution_count": null,
      "outputs": [
        {
          "output_type": "stream",
          "name": "stdout",
          "text": [
            "Hello, Carlos\n",
            "HELLO, CARLOS\n"
          ]
        }
      ]
    },
    {
      "cell_type": "markdown",
      "source": [
        "Numpy"
      ],
      "metadata": {
        "id": "XAIxjGRKYAX-"
      }
    },
    {
      "cell_type": "code",
      "source": [
        "import numpy as np\n",
        "\n",
        "\n",
        "a=np.array([1,2,3])\n",
        "print(type(a))\n",
        "print(a.shape)\n",
        "print(a[0],a[1],a[2])\n",
        "a[0]=5\n",
        "print(a)\n",
        "\n",
        "print('*****************')\n",
        "b=np.array([[1,2,3],[1,3,5]])\n",
        "print(type(b))\n",
        "print(b.shape)\n",
        "print(b)\n",
        "\n",
        "\n"
      ],
      "metadata": {
        "colab": {
          "base_uri": "https://localhost:8080/"
        },
        "id": "L7fJxuFXYB-l",
        "outputId": "878c822d-f64f-46fb-9280-fc584d4e5c27"
      },
      "execution_count": null,
      "outputs": [
        {
          "output_type": "stream",
          "name": "stdout",
          "text": [
            "<class 'numpy.ndarray'>\n",
            "(3,)\n",
            "1 2 3\n",
            "[5 2 3]\n",
            "*****************\n",
            "<class 'numpy.ndarray'>\n",
            "(2, 3)\n",
            "[[1 2 3]\n",
            " [1 3 5]]\n"
          ]
        }
      ]
    },
    {
      "cell_type": "markdown",
      "source": [
        "Numpy also provides many functions to create arrays"
      ],
      "metadata": {
        "id": "awp2N1JxL5kM"
      }
    },
    {
      "cell_type": "code",
      "source": [
        "import numpy as np\n",
        "\n",
        "a=np.zeros((2,3))\n",
        "print(a)\n",
        "b=np.ones((3,5))\n",
        "print(b)\n",
        "c=np.full((3,3),8)\n",
        "print(c)\n",
        "d=np.eye(5)\n",
        "print(d)\n",
        "# Create a 2D array with shape (3, 3) filled with random values between 0 and 1\n",
        "# normal distribution \n",
        "e=np.random.rand(3,3)\n",
        "print(e)\n",
        "# numpy.random.randn(d0, d1, ..., dn):\n",
        "# Generates an array of random numbers from a standard normal distribution (mean=0, standard deviation=1).\n",
        "f=np.random.randn(4,5)\n",
        "print(f)\n"
      ],
      "metadata": {
        "colab": {
          "base_uri": "https://localhost:8080/"
        },
        "id": "uGIGzc7GL9hR",
        "outputId": "e5998f2a-c753-4644-fbad-b79876dbaf99"
      },
      "execution_count": null,
      "outputs": [
        {
          "output_type": "stream",
          "name": "stdout",
          "text": [
            "[[0. 0. 0.]\n",
            " [0. 0. 0.]]\n",
            "[[1. 1. 1. 1. 1.]\n",
            " [1. 1. 1. 1. 1.]\n",
            " [1. 1. 1. 1. 1.]]\n",
            "[[8 8 8]\n",
            " [8 8 8]\n",
            " [8 8 8]]\n",
            "[[1. 0. 0. 0. 0.]\n",
            " [0. 1. 0. 0. 0.]\n",
            " [0. 0. 1. 0. 0.]\n",
            " [0. 0. 0. 1. 0.]\n",
            " [0. 0. 0. 0. 1.]]\n",
            "[[0.83577674 0.46607493 0.92161798]\n",
            " [0.2531174  0.74847482 0.58369438]\n",
            " [0.83251242 0.25384291 0.60687874]]\n",
            "[[ 0.19557571 -0.17151519  1.39434055  0.50118555  1.11803946]\n",
            " [-0.5164746  -1.80605299 -0.27653736  0.26132641  0.2199152 ]\n",
            " [ 1.09573443 -0.41113504  0.59142538 -0.18994837 -0.22903234]\n",
            " [-0.05397989 -0.31581645 -2.17935774  0.37461948  0.83274782]]\n"
          ]
        }
      ]
    },
    {
      "cell_type": "markdown",
      "source": [
        "Array indexing"
      ],
      "metadata": {
        "id": "91sAecwGOQXK"
      }
    },
    {
      "cell_type": "code",
      "source": [
        "import numpy as np\n",
        "\n",
        "\n",
        "# [[ 1  2  3  4]\n",
        "#  [ 5  6  7  8]\n",
        "#  [ 9 10 11 12]]\n",
        "\n",
        "a=np.array([[1,2,3,4],[5,6,7,8],[9,10,11,12]])\n",
        "print(a)\n",
        "print(a.shape)\n",
        "print('a[2,2] : ',a[2,2])\n",
        "\n",
        "print(f'a[2,2] : {a[2,2]}')\n",
        "\n",
        "# b=a[:2,1:3]\n",
        "\n",
        "# # Create a 3-dimensional array\n",
        "# arr3 = np.array([[[1, 2], [3, 4]], [[5, 6], [7, 8]]])\n",
        "# print(arr3.ndim)  # Output: 3\n",
        "# print(arr3)\n",
        "# print(arr3.shape)"
      ],
      "metadata": {
        "id": "0dnwroRyGS1Q",
        "colab": {
          "base_uri": "https://localhost:8080/"
        },
        "outputId": "79c5ce10-167a-47d4-baf7-8cde23724521"
      },
      "execution_count": null,
      "outputs": [
        {
          "output_type": "stream",
          "name": "stdout",
          "text": [
            "[[ 1  2  3  4]\n",
            " [ 5  6  7  8]\n",
            " [ 9 10 11 12]]\n",
            "(3, 4)\n",
            "a[2,2] :  11\n",
            "a[2,2] : 11\n"
          ]
        }
      ]
    }
  ]
}