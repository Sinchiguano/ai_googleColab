{
  "nbformat": 4,
  "nbformat_minor": 0,
  "metadata": {
    "colab": {
      "provenance": [],
      "authorship_tag": "ABX9TyNRNawvG6qL0XvANaRLIm9e",
      "include_colab_link": true
    },
    "kernelspec": {
      "name": "python3",
      "display_name": "Python 3"
    },
    "language_info": {
      "name": "python"
    }
  },
  "cells": [
    {
      "cell_type": "markdown",
      "metadata": {
        "id": "view-in-github",
        "colab_type": "text"
      },
      "source": [
        "<a href=\"https://colab.research.google.com/github/Sinchiguano/ai_googleColab/blob/main/pythonOnGoogleColab_Lecture9.ipynb\" target=\"_parent\"><img src=\"https://colab.research.google.com/assets/colab-badge.svg\" alt=\"Open In Colab\"/></a>"
      ]
    },
    {
      "cell_type": "code",
      "execution_count": 3,
      "metadata": {
        "colab": {
          "base_uri": "https://localhost:8080/"
        },
        "id": "D_vjRbKo-v7n",
        "outputId": "8c6c9ed6-49f0-4159-ae53-4f2666ca9514"
      },
      "outputs": [
        {
          "output_type": "stream",
          "name": "stdout",
          "text": [
            "cesar sinchiguano\n"
          ]
        }
      ],
      "source": [
        "import numpy as np\n",
        "print('cesar sinchiguano')"
      ]
    },
    {
      "cell_type": "code",
      "source": [
        "!python --version "
      ],
      "metadata": {
        "colab": {
          "base_uri": "https://localhost:8080/"
        },
        "id": "6XhDLHO1ha6b",
        "outputId": "6a03787f-879d-48e5-ec84-e8f722d21d73"
      },
      "execution_count": 5,
      "outputs": [
        {
          "output_type": "stream",
          "name": "stdout",
          "text": [
            "Python 3.10.11\n"
          ]
        }
      ]
    },
    {
      "cell_type": "markdown",
      "source": [
        "TIPOS DE DATOS BÁSICOS\n",
        "Números. ENTEROS Y DECIMALES"
      ],
      "metadata": {
        "id": "-VGnK4dJhgPg"
      }
    },
    {
      "cell_type": "code",
      "source": [
        "ejemplo1=2\n",
        "print('-------')\n",
        "print(ejemplo1)\n",
        "print('Producto ejemplo1*ejemplo: \\n{:.3f} '.format(ejemplo1*ejemplo1))\n",
        "print(ejemplo1-ejemplo1)\n",
        "print(ejemplo1+ejemplo1)\n",
        "print(ejemplo1**ejemplo1)\n",
        "ejemplo1+=3\n",
        "print(ejemplo1)\n",
        "ejemplo1*=2\n",
        "print(ejemplo1)\n",
        "print(type(ejemplo1))\n",
        "ejemplo1*=10.5\n",
        "print(type(ejemplo1))\n",
        "print(type(ejemplo1),ejemplo1**ejemplo1,ejemplo1*3)"
      ],
      "metadata": {
        "colab": {
          "base_uri": "https://localhost:8080/"
        },
        "id": "mdNtEJGsiPVR",
        "outputId": "5fccaee6-55bf-46da-bcc5-ba8071f13b71"
      },
      "execution_count": 45,
      "outputs": [
        {
          "output_type": "stream",
          "name": "stdout",
          "text": [
            "-------\n",
            "2\n",
            "Producto ejemplo1*ejemplo: \n",
            "4.000 \n",
            "0\n",
            "4\n",
            "4\n",
            "5\n",
            "10\n",
            "<class 'int'>\n",
            "<class 'float'>\n",
            "<class 'float'> 1.6783263083479556e+212 315.0\n"
          ]
        }
      ]
    },
    {
      "cell_type": "markdown",
      "source": [
        "Booleans"
      ],
      "metadata": {
        "id": "vgD1g0Ijk-h5"
      }
    },
    {
      "cell_type": "code",
      "source": [
        "mask1=True\n",
        "mask2=False\n",
        "resultAnd=mask1 and mask2\n",
        "print(resultAnd)\n",
        "print(mask1 or mask2)\n",
        "print(not mask1)\n",
        "print(not mask2)"
      ],
      "metadata": {
        "colab": {
          "base_uri": "https://localhost:8080/"
        },
        "id": "TtcG5h90lC5X",
        "outputId": "294bc931-9a2b-4d0a-9730-d94889152bb6"
      },
      "execution_count": 52,
      "outputs": [
        {
          "output_type": "stream",
          "name": "stdout",
          "text": [
            "False\n",
            "True\n",
            "False\n",
            "True\n"
          ]
        }
      ]
    },
    {
      "cell_type": "code",
      "source": [],
      "metadata": {
        "id": "GsGNzgpmlwXO"
      },
      "execution_count": null,
      "outputs": []
    }
  ]
}