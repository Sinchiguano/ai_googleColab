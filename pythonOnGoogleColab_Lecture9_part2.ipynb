{
  "nbformat": 4,
  "nbformat_minor": 0,
  "metadata": {
    "colab": {
      "provenance": [],
      "authorship_tag": "ABX9TyP561PLdc+k5WvPFJ4K+zk8",
      "include_colab_link": true
    },
    "kernelspec": {
      "name": "python3",
      "display_name": "Python 3"
    },
    "language_info": {
      "name": "python"
    }
  },
  "cells": [
    {
      "cell_type": "markdown",
      "metadata": {
        "id": "view-in-github",
        "colab_type": "text"
      },
      "source": [
        "<a href=\"https://colab.research.google.com/github/Sinchiguano/ai_googleColab/blob/main/pythonOnGoogleColab_Lecture9_part2.ipynb\" target=\"_parent\"><img src=\"https://colab.research.google.com/assets/colab-badge.svg\" alt=\"Open In Colab\"/></a>"
      ]
    },
    {
      "cell_type": "code",
      "execution_count": null,
      "metadata": {
        "colab": {
          "base_uri": "https://localhost:8080/"
        },
        "id": "D_vjRbKo-v7n",
        "outputId": "7486fcb7-8fd6-4202-f2ff-0bf923144ed9"
      },
      "outputs": [
        {
          "output_type": "stream",
          "name": "stdout",
          "text": [
            "cesar sinchiguano\n"
          ]
        }
      ],
      "source": [
        "import numpy as np\n",
        "print('cesar sinchiguano')\n",
        "#https://colab.research.google.com/github/cs231n/cs231n.github.io/blob/master/python-colab.ipynb#scrollTo=1L4Am0QATgOc"
      ]
    },
    {
      "cell_type": "code",
      "source": [
        "!python --version "
      ],
      "metadata": {
        "colab": {
          "base_uri": "https://localhost:8080/"
        },
        "id": "6XhDLHO1ha6b",
        "outputId": "eb4075bb-cb4f-4781-b1de-65999edad363"
      },
      "execution_count": null,
      "outputs": [
        {
          "output_type": "stream",
          "name": "stdout",
          "text": [
            "Python 3.10.12\n"
          ]
        }
      ]
    },
    {
      "cell_type": "markdown",
      "source": [
        "TIPOS DE DATOS BÁSICOS\n",
        "Números. ENTEROS Y DECIMALES"
      ],
      "metadata": {
        "id": "-VGnK4dJhgPg"
      }
    },
    {
      "cell_type": "code",
      "source": [
        "ejemplo1=2\n",
        "print('-------')\n",
        "print(ejemplo1)\n",
        "print('Producto ejemplo1*ejemplo: \\n{:.3f} '.format(ejemplo1*ejemplo1))\n",
        "print(ejemplo1-ejemplo1)\n",
        "print(ejemplo1+ejemplo1)\n",
        "print(ejemplo1**ejemplo1)\n",
        "ejemplo1+=3\n",
        "print(ejemplo1)\n",
        "ejemplo1*=2\n",
        "print(ejemplo1)\n",
        "print(type(ejemplo1))\n",
        "ejemplo1*=10.5\n",
        "print(type(ejemplo1))\n",
        "print(type(ejemplo1),ejemplo1**ejemplo1,ejemplo1*3)"
      ],
      "metadata": {
        "colab": {
          "base_uri": "https://localhost:8080/"
        },
        "id": "mdNtEJGsiPVR",
        "outputId": "d9df167a-3f67-4c87-b38d-ca453db890d2"
      },
      "execution_count": null,
      "outputs": [
        {
          "output_type": "stream",
          "name": "stdout",
          "text": [
            "-------\n",
            "2\n",
            "Producto ejemplo1*ejemplo: \n",
            "4.000 \n",
            "0\n",
            "4\n",
            "4\n",
            "5\n",
            "10\n",
            "<class 'int'>\n",
            "<class 'float'>\n",
            "<class 'float'> 1.6783263083479556e+212 315.0\n"
          ]
        }
      ]
    },
    {
      "cell_type": "markdown",
      "source": [
        "Booleans"
      ],
      "metadata": {
        "id": "vgD1g0Ijk-h5"
      }
    },
    {
      "cell_type": "code",
      "source": [
        "mask1=True\n",
        "mask2=False\n",
        "resultAnd=mask1 and mask2\n",
        "print(resultAnd)\n",
        "print(mask1 or mask2)\n",
        "print(not mask1)\n",
        "print(not mask2)"
      ],
      "metadata": {
        "colab": {
          "base_uri": "https://localhost:8080/"
        },
        "id": "TtcG5h90lC5X",
        "outputId": "0ee6a349-ca91-4d9e-c2a7-76fde4c8da97"
      },
      "execution_count": null,
      "outputs": [
        {
          "output_type": "stream",
          "name": "stdout",
          "text": [
            "False\n",
            "True\n",
            "False\n",
            "True\n"
          ]
        }
      ]
    },
    {
      "cell_type": "markdown",
      "source": [
        "String"
      ],
      "metadata": {
        "id": "2dX-zaTamkkb"
      }
    },
    {
      "cell_type": "code",
      "source": [
        "lastName='sinchiguano'\n",
        "print(lastName.capitalize())\n",
        "print(lastName.upper())\n",
        "print(lastName.lower())\n",
        "print(len(lastName))\n",
        "message='Hello,'\n",
        "print(message+' '+lastName)"
      ],
      "metadata": {
        "colab": {
          "base_uri": "https://localhost:8080/"
        },
        "id": "uiVObT9-modO",
        "outputId": "3fbb5798-65af-4e29-8eb6-e7fbdb21cad7"
      },
      "execution_count": null,
      "outputs": [
        {
          "output_type": "stream",
          "name": "stdout",
          "text": [
            "Sinchiguano\n",
            "SINCHIGUANO\n",
            "sinchiguano\n",
            "11\n",
            "Hello, sinchiguano\n"
          ]
        }
      ]
    },
    {
      "cell_type": "markdown",
      "source": [
        "Containers"
      ],
      "metadata": {
        "id": "WF-q6uNgoy5_"
      }
    },
    {
      "cell_type": "code",
      "source": [
        "listNumbers=[1,2,3,4,5,6]\n",
        "import numpy as np\n",
        "listLastNameIndex=np.arange(len(lastName))\n",
        "print(listLastNameIndex)\n",
        "print(type(listLastNameIndex))\n",
        "listLastNameIndex=np.arange(10)\n",
        "print(listLastNameIndex)\n",
        "print(type(listLastNameIndex))\n",
        "someList=['cesar',13,True]\n",
        "print(someList)\n",
        "print(someList[0])\n",
        "someList[1]=45\n",
        "print(someList)\n",
        "someList.append('one')\n",
        "someList.append(1)\n",
        "print(someList)\n",
        "test=someList.pop()\n",
        "print(test)\n",
        "print(someList.index('one'))\n",
        "print(someList[3])\n",
        "import random\n",
        "# Generate a random list of floating-point numbers\n",
        "random_list = [random.randint(0, 100) for _ in range(10)]\n",
        "print(random_list)\n",
        "print(type(random_list))\n",
        "random_list.sort()\n",
        "print(random_list)"
      ],
      "metadata": {
        "colab": {
          "base_uri": "https://localhost:8080/"
        },
        "id": "z24orhC_o09X",
        "outputId": "14caf69f-a3f0-4168-ac46-a4976dc33742"
      },
      "execution_count": null,
      "outputs": [
        {
          "output_type": "stream",
          "name": "stdout",
          "text": [
            "[ 0  1  2  3  4  5  6  7  8  9 10]\n",
            "<class 'numpy.ndarray'>\n",
            "[0 1 2 3 4 5 6 7 8 9]\n",
            "<class 'numpy.ndarray'>\n",
            "['cesar', 13, True]\n",
            "cesar\n",
            "['cesar', 45, True]\n",
            "['cesar', 45, True, 'one', 1]\n",
            "1\n",
            "3\n",
            "one\n",
            "[38, 89, 53, 2, 33, 16, 48, 43, 59, 17]\n",
            "<class 'list'>\n",
            "[2, 16, 17, 33, 38, 43, 48, 53, 59, 89]\n"
          ]
        }
      ]
    },
    {
      "cell_type": "markdown",
      "source": [
        "Loops: You can loop over the elements of a list like this "
      ],
      "metadata": {
        "id": "0k_tTdyt4raC"
      }
    },
    {
      "cell_type": "code",
      "source": [
        "animals=['cat','dog','monkey']\n",
        "print(animals[1:3])\n",
        "numbers=list(range(20))\n",
        "print(numbers)\n",
        "print(numbers[8:15])\n",
        "print(numbers[:8])\n",
        "numbers[1:3]=[8,9]\n",
        "print(numbers)\n",
        "print(numbers[:-1])\n",
        "\n",
        "for animal in animals:\n",
        "  print('Animal: {}'.format(animal.upper()))\n",
        "indices=[i for i in range(len(animals))]\n",
        "print(indices)\n",
        "\n",
        "indexNumbers=list()\n",
        "for i in range(len(numbers)):\n",
        "  indexNumbers.append(i)\n",
        "print(indexNumbers)\n",
        "\n",
        "\n",
        "for index, animal in enumerate(animals):\n",
        "  print('%d  %s'%(index,animal))"
      ],
      "metadata": {
        "colab": {
          "base_uri": "https://localhost:8080/"
        },
        "id": "FjDcO1ep1mx4",
        "outputId": "da0da0f4-92fd-4b08-c788-7a60f1daded4"
      },
      "execution_count": null,
      "outputs": [
        {
          "output_type": "stream",
          "name": "stdout",
          "text": [
            "['dog', 'monkey']\n",
            "[0, 1, 2, 3, 4, 5, 6, 7, 8, 9, 10, 11, 12, 13, 14, 15, 16, 17, 18, 19]\n",
            "[8, 9, 10, 11, 12, 13, 14]\n",
            "[0, 1, 2, 3, 4, 5, 6, 7]\n",
            "[0, 8, 9, 3, 4, 5, 6, 7, 8, 9, 10, 11, 12, 13, 14, 15, 16, 17, 18, 19]\n",
            "[0, 8, 9, 3, 4, 5, 6, 7, 8, 9, 10, 11, 12, 13, 14, 15, 16, 17, 18]\n",
            "Animal: CAT\n",
            "Animal: DOG\n",
            "Animal: MONKEY\n",
            "[0, 1, 2]\n",
            "[0, 1, 2, 3, 4, 5, 6, 7, 8, 9, 10, 11, 12, 13, 14, 15, 16, 17, 18, 19]\n",
            "0  cat\n",
            "1  dog\n",
            "2  monkey\n"
          ]
        }
      ]
    },
    {
      "cell_type": "code",
      "source": [
        "sample=list(range(6))\n",
        "print(sample)\n",
        "squareNumber=list()\n",
        "for i in sample:\n",
        "  squareNumber.append(i**2)\n",
        "print(squareNumber)"
      ],
      "metadata": {
        "colab": {
          "base_uri": "https://localhost:8080/"
        },
        "id": "HUWZcxiw5B8H",
        "outputId": "960078bb-b7ed-4466-cf98-b54d457f28f0"
      },
      "execution_count": null,
      "outputs": [
        {
          "output_type": "stream",
          "name": "stdout",
          "text": [
            "[0, 1, 2, 3, 4, 5]\n",
            "[0, 1, 4, 9, 16, 25]\n"
          ]
        }
      ]
    },
    {
      "cell_type": "markdown",
      "source": [
        "DICTIONARIES"
      ],
      "metadata": {
        "id": "11MhjM9DBxHt"
      }
    },
    {
      "cell_type": "code",
      "source": [
        "d={'cat':'cute','dog':'clever'}\n",
        "print(d['cat'])\n",
        "print('cat' in d)\n",
        "d['fish']='wet'\n",
        "my_dict = {\"name\": \"John\", \"age\": 30, \"city\": \"New York\"}\n",
        "for key in my_dict:\n",
        "  print('Key: {} - Value: {}'.format(key,my_dict[key]))\n",
        "print('----------------')\n",
        "for key, value in d.items():\n",
        "  print('Key: {} - Value: {}'.format(key,value))\n"
      ],
      "metadata": {
        "colab": {
          "base_uri": "https://localhost:8080/"
        },
        "id": "HCqx4V9YBzVE",
        "outputId": "72df7961-01ed-40a3-d263-58529b9cd778"
      },
      "execution_count": null,
      "outputs": [
        {
          "output_type": "stream",
          "name": "stdout",
          "text": [
            "cute\n",
            "True\n",
            "Key: name - Value: John\n",
            "Key: age - Value: 30\n",
            "Key: city - Value: New York\n",
            "----------------\n",
            "Key: cat - Value: cute\n",
            "Key: dog - Value: clever\n",
            "Key: fish - Value: wet\n"
          ]
        }
      ]
    },
    {
      "cell_type": "markdown",
      "source": [
        "Functions"
      ],
      "metadata": {
        "id": "loFYhQuwJxe5"
      }
    },
    {
      "cell_type": "code",
      "source": [
        "myList=list()\n",
        "myList.append(-1)\n",
        "myList.append(0)\n",
        "myList.append(1)\n",
        "print(myList)\n",
        "\n",
        "def checkSign(number):\n",
        "  if (number<0):\n",
        "    print('The number is negative: {}'.format(number))\n",
        "  elif (number>0):\n",
        "    print('The number is positive: {}'.format(number))\n",
        "  else:\n",
        "    print('The number is cero: {}'.format(number))\n",
        "\n",
        "\n",
        "# checkSign(myList[2])\n",
        "\n",
        "for index, item in enumerate(myList):\n",
        "  print(checkSign(item))\n"
      ],
      "metadata": {
        "colab": {
          "base_uri": "https://localhost:8080/"
        },
        "id": "4PJqDzG_-35Q",
        "outputId": "55c263f0-41e3-47c1-e41b-9858102e4eef"
      },
      "execution_count": null,
      "outputs": [
        {
          "output_type": "stream",
          "name": "stdout",
          "text": [
            "[-1, 0, 1]\n",
            "The number is negative: -1\n",
            "None\n",
            "The number is cero: 0\n",
            "None\n",
            "The number is positive: 1\n",
            "None\n"
          ]
        }
      ]
    },
    {
      "cell_type": "code",
      "source": [
        "def changeToUpperCase(name, flag=True):\n",
        "  if flag:\n",
        "    print(name.upper())\n",
        "  elif flag==False:\n",
        "    print(name.lower())\n",
        "\n",
        "nameList=['juan','carlos','veronica','roberto']\n",
        "\n",
        "# changeToUpperCase(nameList[0],False)\n",
        "# changeToUpperCase(nameList[0],True)\n",
        "\n",
        "print('-----------------')\n",
        "\n",
        "import random \n",
        "\n",
        "print(random.choice([False, True]))\n",
        "\n",
        "for name in nameList:\n",
        "  controlFlag=random.choice([True,False])\n",
        "  changeToUpperCase(name,controlFlag)\n",
        "\n"
      ],
      "metadata": {
        "colab": {
          "base_uri": "https://localhost:8080/"
        },
        "id": "ib2yBdv8MTjk",
        "outputId": "73558efa-9276-4414-c4d0-812920f46c76"
      },
      "execution_count": null,
      "outputs": [
        {
          "output_type": "stream",
          "name": "stdout",
          "text": [
            "-----------------\n",
            "True\n",
            "juan\n",
            "CARLOS\n",
            "veronica\n",
            "ROBERTO\n"
          ]
        }
      ]
    },
    {
      "cell_type": "markdown",
      "source": [
        "Class\n",
        "\n",
        "The syntax for defining classes in Python is straightforward.\n",
        "\n",
        "Attributes (variables)\n",
        "Methods (functions)\n",
        "\n",
        "All classes have a function called __init__(), which is always executed when the class is being initiated."
      ],
      "metadata": {
        "id": "DqjSXPsPICuf"
      }
    },
    {
      "cell_type": "code",
      "source": [
        "class Person():\n",
        "  def __init__(self, name, age):\n",
        "    self.name=name\n",
        "    self.age=age\n",
        "  \n",
        "p1=Person('juan',12)\n",
        "p2=Person('Lucas',13)\n",
        "\n",
        "p4=Person('Pepe',18)\n",
        "p3=Person('Liam',15)\n",
        "\n",
        "print(p1.name, ' - ',p1.age)\n",
        "print(p4.name, ' - ',p4.age)\n",
        "\n"
      ],
      "metadata": {
        "colab": {
          "base_uri": "https://localhost:8080/"
        },
        "id": "8PzC1wKqTh7d",
        "outputId": "d52da4b7-76e6-439c-d794-e457ac51a821"
      },
      "execution_count": null,
      "outputs": [
        {
          "output_type": "stream",
          "name": "stdout",
          "text": [
            "juan  -  12\n",
            "Pepe  -  18\n"
          ]
        }
      ]
    },
    {
      "cell_type": "code",
      "source": [
        "class myClass:\n",
        "  def __init__(self, name):\n",
        "    self.name=name\n",
        "  \n",
        "\n",
        "  def message(self):\n",
        "    print('Hello, {}'.format(self.name))\n",
        "\n",
        "  def upperCase(self, flag=False):\n",
        "    if flag:\n",
        "      print('Hello, {}'.format(self.name.upper()))\n",
        "    else:\n",
        "      print('Hello, {}'.format(self.name))\n",
        "\n",
        "\n",
        "ob1=myClass('Peter')\n",
        "ob2=myClass('Juan')\n",
        "\n",
        "print('-------')\n",
        "\n",
        "ob1.upperCase(True)\n",
        "ob2.upperCase(False)\n"
      ],
      "metadata": {
        "colab": {
          "base_uri": "https://localhost:8080/"
        },
        "id": "v8bgQZUyIZQk",
        "outputId": "59e01185-e82c-4748-f524-ea839b7f776c"
      },
      "execution_count": null,
      "outputs": [
        {
          "output_type": "stream",
          "name": "stdout",
          "text": [
            "-------\n",
            "Hello, PETER\n",
            "Hello, Juan\n"
          ]
        }
      ]
    },
    {
      "cell_type": "markdown",
      "source": [
        "CLASSES"
      ],
      "metadata": {
        "id": "vaz8MiiQOJYu"
      }
    },
    {
      "cell_type": "code",
      "source": [
        "class greetings():\n",
        "  def __init__(self, name):\n",
        "    self.name=name\n",
        " \n",
        "  def hello(self,flag):\n",
        "    if flag:\n",
        "      print('HELLO, '+self.name.upper())\n",
        "    elif not flag:\n",
        "      print('Hello, '+self.name)\n",
        "\n",
        "object1=greetings('Cesar')\n",
        "object2=greetings('Juan')\n",
        "object3=greetings('Carlos')\n",
        "\n",
        "object3.hello(False)\n",
        "object3.hello(True)"
      ],
      "metadata": {
        "colab": {
          "base_uri": "https://localhost:8080/"
        },
        "id": "ya9h2ze7OLin",
        "outputId": "47fa128b-ed59-4751-a1f2-50cf75803b1d"
      },
      "execution_count": null,
      "outputs": [
        {
          "output_type": "stream",
          "name": "stdout",
          "text": [
            "Hello, Carlos\n",
            "HELLO, CARLOS\n"
          ]
        }
      ]
    },
    {
      "cell_type": "markdown",
      "source": [
        "Numpy"
      ],
      "metadata": {
        "id": "XAIxjGRKYAX-"
      }
    },
    {
      "cell_type": "code",
      "source": [
        "import numpy as np\n",
        "\n",
        "\n",
        "a=np.array([1,2,3])\n",
        "print(type(a))\n",
        "print(a.shape)\n",
        "print(a[0],a[1],a[2])\n",
        "a[0]=5\n",
        "print(a)\n",
        "\n",
        "print('*****************')\n",
        "b=np.array([[1,2,3],[1,3,5]])\n",
        "print(type(b))\n",
        "print(b.shape)\n",
        "print(b)\n",
        "\n",
        "\n"
      ],
      "metadata": {
        "colab": {
          "base_uri": "https://localhost:8080/"
        },
        "id": "L7fJxuFXYB-l",
        "outputId": "6d06c915-bc08-4657-f89b-7092a42e11b6"
      },
      "execution_count": null,
      "outputs": [
        {
          "output_type": "stream",
          "name": "stdout",
          "text": [
            "<class 'numpy.ndarray'>\n",
            "(3,)\n",
            "1 2 3\n",
            "[5 2 3]\n",
            "*****************\n",
            "<class 'numpy.ndarray'>\n",
            "(2, 3)\n",
            "[[1 2 3]\n",
            " [1 3 5]]\n"
          ]
        }
      ]
    },
    {
      "cell_type": "markdown",
      "source": [
        "Numpy also provides many functions to create arrays"
      ],
      "metadata": {
        "id": "awp2N1JxL5kM"
      }
    },
    {
      "cell_type": "code",
      "source": [
        "import numpy as np\n",
        "\n",
        "a=np.zeros((2,3))\n",
        "print(a)\n",
        "b=np.ones((3,5))\n",
        "print(b)\n",
        "c=np.full((3,3),8)\n",
        "print(c)\n",
        "d=np.eye(5)\n",
        "print(d)\n",
        "# Create a 2D array with shape (3, 3) filled with random values between 0 and 1\n",
        "# normal distribution \n",
        "e=np.random.rand(3,3)\n",
        "print(e)\n",
        "# numpy.random.randn(d0, d1, ..., dn):\n",
        "# Generates an array of random numbers from a standard normal distribution (mean=0, standard deviation=1).\n",
        "f=np.random.randn(4,5)\n",
        "print(f)\n"
      ],
      "metadata": {
        "colab": {
          "base_uri": "https://localhost:8080/"
        },
        "id": "uGIGzc7GL9hR",
        "outputId": "3e4d8b7b-f1ee-4276-f035-cec3351fc8cb"
      },
      "execution_count": null,
      "outputs": [
        {
          "output_type": "stream",
          "name": "stdout",
          "text": [
            "[[0. 0. 0.]\n",
            " [0. 0. 0.]]\n",
            "[[1. 1. 1. 1. 1.]\n",
            " [1. 1. 1. 1. 1.]\n",
            " [1. 1. 1. 1. 1.]]\n",
            "[[8 8 8]\n",
            " [8 8 8]\n",
            " [8 8 8]]\n",
            "[[1. 0. 0. 0. 0.]\n",
            " [0. 1. 0. 0. 0.]\n",
            " [0. 0. 1. 0. 0.]\n",
            " [0. 0. 0. 1. 0.]\n",
            " [0. 0. 0. 0. 1.]]\n",
            "[[0.43900846 0.83417043 0.07468719]\n",
            " [0.11456489 0.5820439  0.19073431]\n",
            " [0.06967114 0.61706351 0.0305506 ]]\n",
            "[[-1.97205766 -1.65858165  0.81412282  0.50449586  0.86826894]\n",
            " [-0.56476864 -0.23420313  0.63629251  0.09134045 -0.63048943]\n",
            " [ 1.24399131  0.6871268  -0.60607416 -0.12407084  0.66024165]\n",
            " [-0.53008625 -1.99681205  0.86900616  0.39959557 -1.02493549]]\n"
          ]
        }
      ]
    },
    {
      "cell_type": "markdown",
      "source": [
        "Array indexing"
      ],
      "metadata": {
        "id": "91sAecwGOQXK"
      }
    },
    {
      "cell_type": "code",
      "source": [
        "import numpy as np\n",
        "# [[ 1  2  3  4]\n",
        "#  [ 5  6  7  8]\n",
        "#  [ 9 10 11 12]]\n",
        "a=np.array([[1,2,3,4],[5,6,7,8],[9,10,11,12]])\n",
        "print(a)\n",
        "print(a.shape)\n",
        "print('a[2,2] : ',a[2,2])\n",
        "print(f'a[2,2] : {a[2,2]}')\n",
        "# b=a[:2,1:3]\n",
        "# Create a 3-dimensional array\n",
        "arr3 = np.array([[[1, 2], [3, 4]], [[5, 6], [7, 8]]])\n",
        "print(arr3.ndim)  # Output: 3\n",
        "print(arr3)\n",
        "print(arr3.shape)\n",
        "print(a[1:,1:3])\n",
        "c=np.array(a[1:,1:3])\n",
        "print(type(c))\n",
        "c=a[1:,1:3]\n",
        "print(type(c))\n",
        "print(a)\n",
        "print('Before: {}'.format(a[1,1]))\n",
        "a[1,1]=120\n",
        "print(a)\n",
        "print('After: {}'.format(a[1,1]))\n",
        "print(a[:,1].shape)\n",
        "b=a[:,1]\n",
        "d=np.reshape(b,(3,1))\n",
        "print(d.shape)"
      ],
      "metadata": {
        "id": "0dnwroRyGS1Q",
        "colab": {
          "base_uri": "https://localhost:8080/"
        },
        "outputId": "a230960c-0acd-4814-e3a4-b9a4a8272cfc"
      },
      "execution_count": null,
      "outputs": [
        {
          "output_type": "stream",
          "name": "stdout",
          "text": [
            "[[ 1  2  3  4]\n",
            " [ 5  6  7  8]\n",
            " [ 9 10 11 12]]\n",
            "(3, 4)\n",
            "a[2,2] :  11\n",
            "a[2,2] : 11\n",
            "3\n",
            "[[[1 2]\n",
            "  [3 4]]\n",
            "\n",
            " [[5 6]\n",
            "  [7 8]]]\n",
            "(2, 2, 2)\n",
            "[[ 6  7]\n",
            " [10 11]]\n",
            "<class 'numpy.ndarray'>\n",
            "<class 'numpy.ndarray'>\n",
            "[[ 1  2  3  4]\n",
            " [ 5  6  7  8]\n",
            " [ 9 10 11 12]]\n",
            "Before: 6\n",
            "[[  1   2   3   4]\n",
            " [  5 120   7   8]\n",
            " [  9  10  11  12]]\n",
            "After: 120\n",
            "(3,)\n",
            "(3, 1)\n"
          ]
        }
      ]
    },
    {
      "cell_type": "code",
      "source": [
        "newArray=np.array([[11,12,13],[21,22,23],[31,32,33],[41,42,43]])\n",
        "print(newArray)\n",
        "print(newArray.shape)\n",
        "\n",
        "colIndices=np.array([0,1,2,0])\n",
        "print(colIndices)\n",
        "print(type(colIndices))\n",
        "rowIndices=np.arange(4)\n",
        "print(rowIndices)\n",
        "print(type(rowIndices))\n",
        "\n",
        "print('Col Indices picked: {}'.format(colIndices))\n",
        "print('row Indices picked: {}'.format(rowIndices))\n",
        "\n",
        "\n",
        "\n",
        "for row, col in zip(rowIndices, colIndices):\n",
        "  print(newArray[row,col])\n",
        "\n"
      ],
      "metadata": {
        "id": "8iuWdWlzbwMh",
        "colab": {
          "base_uri": "https://localhost:8080/"
        },
        "outputId": "78b49d60-0c20-4770-d8c3-e6d9ca85cc61"
      },
      "execution_count": null,
      "outputs": [
        {
          "output_type": "stream",
          "name": "stdout",
          "text": [
            "[[11 12 13]\n",
            " [21 22 23]\n",
            " [31 32 33]\n",
            " [41 42 43]]\n",
            "(4, 3)\n",
            "[0 1 2 0]\n",
            "<class 'numpy.ndarray'>\n",
            "[0 1 2 3]\n",
            "<class 'numpy.ndarray'>\n",
            "Col Indices picked: [0 1 2 0]\n",
            "row Indices picked: [0 1 2 3]\n",
            "11\n",
            "22\n",
            "33\n",
            "41\n"
          ]
        }
      ]
    },
    {
      "cell_type": "markdown",
      "source": [
        "BOOLEAN INDEXING "
      ],
      "metadata": {
        "id": "FeYiGwSOnumf"
      }
    },
    {
      "cell_type": "code",
      "source": [
        "#Let's create an array 3x2\n",
        "a=np.array([[11,22],[33,44],[55,66]])\n",
        "print(a.shape)\n",
        "print(a)\n",
        "\n",
        "filter=(a>25)\n",
        "print(type(filter))\n",
        "print(filter.shape)\n",
        "print(filter)\n",
        "\n",
        "b=a[filter]\n",
        "print(b)\n",
        "print('----')\n",
        "print(a[a>25])"
      ],
      "metadata": {
        "colab": {
          "base_uri": "https://localhost:8080/"
        },
        "id": "45d2jDj9nwad",
        "outputId": "9cb55913-c3a1-4fe3-803a-44ed0fe12c68"
      },
      "execution_count": null,
      "outputs": [
        {
          "output_type": "stream",
          "name": "stdout",
          "text": [
            "(3, 2)\n",
            "[[11 22]\n",
            " [33 44]\n",
            " [55 66]]\n",
            "<class 'numpy.ndarray'>\n",
            "(3, 2)\n",
            "[[False False]\n",
            " [ True  True]\n",
            " [ True  True]]\n",
            "[33 44 55 66]\n",
            "----\n",
            "[33 44 55 66]\n"
          ]
        }
      ]
    },
    {
      "cell_type": "markdown",
      "source": [
        "Array Operations"
      ],
      "metadata": {
        "id": "HDHGgTPhvEcA"
      }
    },
    {
      "cell_type": "code",
      "source": [
        "import numpy as np\n",
        "x=np.array([[11,3],[33,44]], dtype=int)\n",
        "y=np.array([[11.1,22.2],[33.3,44.3]],dtype=float)\n",
        "\n",
        "print(x)\n",
        "print()\n",
        "print(y)\n",
        "print('-------')\n",
        "print(x+y)\n",
        "print()\n",
        "print(np.add(x,y))\n",
        "print(np.subtract(x,y))\n",
        "print(np.square(x))\n",
        "print(np.power(x,3))"
      ],
      "metadata": {
        "colab": {
          "base_uri": "https://localhost:8080/"
        },
        "id": "7qwsPdLUvGW7",
        "outputId": "361c2706-2a6b-4bdc-c92c-2f247af3486a"
      },
      "execution_count": null,
      "outputs": [
        {
          "output_type": "stream",
          "name": "stdout",
          "text": [
            "[[11  3]\n",
            " [33 44]]\n",
            "\n",
            "[[11.1 22.2]\n",
            " [33.3 44.3]]\n",
            "-------\n",
            "[[22.1 25.2]\n",
            " [66.3 88.3]]\n",
            "\n",
            "[[22.1 25.2]\n",
            " [66.3 88.3]]\n",
            "[[ -0.1 -19.2]\n",
            " [ -0.3  -0.3]]\n",
            "[[ 121    9]\n",
            " [1089 1936]]\n",
            "[[ 1331    27]\n",
            " [35937 85184]]\n"
          ]
        }
      ]
    },
    {
      "cell_type": "markdown",
      "source": [
        "Basis Statistical Operations"
      ],
      "metadata": {
        "id": "XwpgAcAEyfi7"
      }
    },
    {
      "cell_type": "code",
      "source": [
        "a=10*np.random.randn(2,5)\n",
        "print(a)"
      ],
      "metadata": {
        "colab": {
          "base_uri": "https://localhost:8080/"
        },
        "id": "vedBvTKEyh9h",
        "outputId": "88de04f7-6472-49be-c936-bb650395dc5a"
      },
      "execution_count": null,
      "outputs": [
        {
          "output_type": "stream",
          "name": "stdout",
          "text": [
            "[[ -7.0001128  -13.48815151  -9.56946721  -4.99525815 -12.11843443]\n",
            " [  3.2843031   29.5437975   13.556525   -11.28630138  -5.4380712 ]]\n"
          ]
        }
      ]
    },
    {
      "cell_type": "code",
      "source": [
        "print(a.mean())\n",
        "# compute the mean by row\n",
        "print(a.mean(axis=1))\n",
        "# compute the mean by column\n",
        "print(a.mean(axis=0))\n",
        "# sum all the element\n",
        "print(a.sum())\n",
        "print()\n",
        "#SORTING\n",
        "unsorted=np.random.randn(5)\n",
        "print(unsorted)\n",
        "sorted=np.array(unsorted)\n",
        "sorted.sort()\n",
        "print(sorted)\n"
      ],
      "metadata": {
        "colab": {
          "base_uri": "https://localhost:8080/"
        },
        "id": "xA1OGdjIyq1b",
        "outputId": "8c59770a-bf6e-4dd6-e180-581efefcc115"
      },
      "execution_count": null,
      "outputs": [
        {
          "output_type": "stream",
          "name": "stdout",
          "text": [
            "-1.7511171068859437\n",
            "[-9.43428482  5.9320506 ]\n",
            "[-1.85790485  8.02782299  1.9935289  -8.14077976 -8.77825281]\n",
            "-17.511171068859436\n",
            "\n",
            "[ 0.24922167 -1.30075074  1.99121481  0.56095649  1.33330742]\n",
            "[-1.30075074  0.24922167  0.56095649  1.33330742  1.99121481]\n",
            "[[0. 0. 0.]\n",
            " [0. 0. 0.]\n",
            " [0. 0. 0.]\n",
            " [0. 0. 0.]]\n",
            "[[1. 2. 3.]\n",
            " [1. 2. 3.]\n",
            " [1. 2. 3.]\n",
            " [1. 2. 3.]]\n"
          ]
        }
      ]
    },
    {
      "cell_type": "code",
      "source": [
        "#BROADCASTING\n",
        "b=np.zeros((4,3))\n",
        "print(b)\n",
        "c=np.array([1,2,3])\n",
        "y=b+c\n",
        "print(y)\n",
        "d=np.array([[1,2,3,4]])\n",
        "print(d)\n",
        "print(d.shape)\n",
        "d=d.T\n",
        "print(d.shape)\n",
        "y=b+d\n",
        "print(y)\n",
        "print()\n",
        "#RESHAPING ARRAY\n",
        "a=np.arange(20)\n",
        "print(type(a))\n",
        "print(a.shape)\n",
        "a1=a.reshape(4,5)\n",
        "print(a1)\n",
        "print(a1.shape)"
      ],
      "metadata": {
        "colab": {
          "base_uri": "https://localhost:8080/"
        },
        "id": "WVyF93rO3aaf",
        "outputId": "ceacf1e6-1d57-459b-87f0-e01b9a3fbbe8"
      },
      "execution_count": null,
      "outputs": [
        {
          "output_type": "stream",
          "name": "stdout",
          "text": [
            "[[0. 0. 0.]\n",
            " [0. 0. 0.]\n",
            " [0. 0. 0.]\n",
            " [0. 0. 0.]]\n",
            "[[1. 2. 3.]\n",
            " [1. 2. 3.]\n",
            " [1. 2. 3.]\n",
            " [1. 2. 3.]]\n",
            "[[1 2 3 4]]\n",
            "(1, 4)\n",
            "(4, 1)\n",
            "[[1. 1. 1.]\n",
            " [2. 2. 2.]\n",
            " [3. 3. 3.]\n",
            " [4. 4. 4.]]\n",
            "\n",
            "<class 'numpy.ndarray'>\n",
            "(20,)\n",
            "[[ 0  1  2  3  4]\n",
            " [ 5  6  7  8  9]\n",
            " [10 11 12 13 14]\n",
            " [15 16 17 18 19]]\n",
            "(4, 5)\n"
          ]
        }
      ]
    },
    {
      "cell_type": "code",
      "source": [
        "#MERGING DATA SETS\n",
        "\n",
        "a=np.random.randint(low=2,high=50, size=(2,2))\n",
        "print(a)\n",
        "b=np.random.randint(low=2,high=50, size=(2,2))\n",
        "print(b)"
      ],
      "metadata": {
        "colab": {
          "base_uri": "https://localhost:8080/"
        },
        "id": "pmVeGhAo7HJd",
        "outputId": "f43493fa-4d99-4004-d2c6-f3456ccf5fd1"
      },
      "execution_count": null,
      "outputs": [
        {
          "output_type": "stream",
          "name": "stdout",
          "text": [
            "[[43 39]\n",
            " [22 10]]\n",
            "[[ 3 16]\n",
            " [17 29]]\n"
          ]
        }
      ]
    },
    {
      "cell_type": "code",
      "source": [
        "y1=np.vstack((a,b))\n",
        "print(y1)"
      ],
      "metadata": {
        "colab": {
          "base_uri": "https://localhost:8080/"
        },
        "id": "0TQCHRlb7hzu",
        "outputId": "b0cc8f14-1b23-4997-dbf8-e8fc0f11eb0a"
      },
      "execution_count": null,
      "outputs": [
        {
          "output_type": "stream",
          "name": "stdout",
          "text": [
            "[[43 39]\n",
            " [22 10]\n",
            " [ 3 16]\n",
            " [17 29]]\n"
          ]
        }
      ]
    },
    {
      "cell_type": "code",
      "source": [
        "y1=np.hstack((a,b))\n",
        "print(y1)"
      ],
      "metadata": {
        "colab": {
          "base_uri": "https://localhost:8080/"
        },
        "id": "EAcpIWwX7tbd",
        "outputId": "fc897602-4d50-4216-c44f-fc5e9de61d08"
      },
      "execution_count": null,
      "outputs": [
        {
          "output_type": "stream",
          "name": "stdout",
          "text": [
            "[[43 39  3 16]\n",
            " [22 10 17 29]]\n"
          ]
        }
      ]
    },
    {
      "cell_type": "code",
      "source": [
        "#merge data by row\n",
        "y1=np.concatenate([a,b],axis=0)\n",
        "print(y1)\n",
        "#merge data by colum\n",
        "y1=np.concatenate([a,b],axis=1)\n",
        "print(y1)"
      ],
      "metadata": {
        "colab": {
          "base_uri": "https://localhost:8080/"
        },
        "id": "tZ6UmNO_7x9l",
        "outputId": "c1dba327-4927-4c3a-8020-d96d4b2a1697"
      },
      "execution_count": null,
      "outputs": [
        {
          "output_type": "stream",
          "name": "stdout",
          "text": [
            "[[43 39]\n",
            " [22 10]\n",
            " [ 3 16]\n",
            " [17 29]]\n",
            "[[43 39  3 16]\n",
            " [22 10 17 29]]\n"
          ]
        }
      ]
    }
  ]
}